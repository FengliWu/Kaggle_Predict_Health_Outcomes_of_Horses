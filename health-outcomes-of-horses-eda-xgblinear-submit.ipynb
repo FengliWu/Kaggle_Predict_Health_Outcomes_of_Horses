{
 "cells": [
  {
   "cell_type": "code",
   "execution_count": 1,
   "id": "6ca7ac35",
   "metadata": {
    "_execution_state": "idle",
    "_uuid": "051d70d956493feee0c6d64651c6a088724dca2a",
    "collapsed": true,
    "execution": {
     "iopub.execute_input": "2023-09-17T23:56:59.106935Z",
     "iopub.status.busy": "2023-09-17T23:56:59.104192Z",
     "iopub.status.idle": "2023-09-17T23:57:03.068928Z",
     "shell.execute_reply": "2023-09-17T23:57:03.066924Z"
    },
    "jupyter": {
     "outputs_hidden": true
    },
    "papermill": {
     "duration": 3.984718,
     "end_time": "2023-09-17T23:57:03.071966",
     "exception": false,
     "start_time": "2023-09-17T23:56:59.087248",
     "status": "completed"
    },
    "tags": [],
    "vscode": {
     "languageId": "r"
    }
   },
   "outputs": [
    {
     "name": "stderr",
     "output_type": "stream",
     "text": [
      "── \u001b[1mAttaching core tidyverse packages\u001b[22m ──────────────────────── tidyverse 2.0.0 ──\n",
      "\u001b[32m✔\u001b[39m \u001b[34mdplyr    \u001b[39m 1.1.2     \u001b[32m✔\u001b[39m \u001b[34mreadr    \u001b[39m 2.1.4\n",
      "\u001b[32m✔\u001b[39m \u001b[34mforcats  \u001b[39m 1.0.0     \u001b[32m✔\u001b[39m \u001b[34mstringr  \u001b[39m 1.5.0\n",
      "\u001b[32m✔\u001b[39m \u001b[34mggplot2  \u001b[39m 3.4.2     \u001b[32m✔\u001b[39m \u001b[34mtibble   \u001b[39m 3.2.1\n",
      "\u001b[32m✔\u001b[39m \u001b[34mlubridate\u001b[39m 1.9.2     \u001b[32m✔\u001b[39m \u001b[34mtidyr    \u001b[39m 1.3.0\n",
      "\u001b[32m✔\u001b[39m \u001b[34mpurrr    \u001b[39m 1.0.1     \n",
      "── \u001b[1mConflicts\u001b[22m ────────────────────────────────────────── tidyverse_conflicts() ──\n",
      "\u001b[31m✖\u001b[39m \u001b[34mdplyr\u001b[39m::\u001b[32mfilter()\u001b[39m masks \u001b[34mstats\u001b[39m::filter()\n",
      "\u001b[31m✖\u001b[39m \u001b[34mdplyr\u001b[39m::\u001b[32mlag()\u001b[39m    masks \u001b[34mstats\u001b[39m::lag()\n",
      "\u001b[36mℹ\u001b[39m Use the conflicted package (\u001b[3m\u001b[34m<http://conflicted.r-lib.org/>\u001b[39m\u001b[23m) to force all conflicts to become errors\n",
      "Loading required package: lattice\n",
      "\n",
      "\n",
      "Attaching package: ‘caret’\n",
      "\n",
      "\n",
      "The following object is masked from ‘package:purrr’:\n",
      "\n",
      "    lift\n",
      "\n",
      "\n",
      "The following object is masked from ‘package:httr’:\n",
      "\n",
      "    progress\n",
      "\n",
      "\n",
      "\n",
      "Attaching package: ‘mltools’\n",
      "\n",
      "\n",
      "The following object is masked from ‘package:tidyr’:\n",
      "\n",
      "    replace_na\n",
      "\n",
      "\n",
      "\n",
      "Attaching package: ‘data.table’\n",
      "\n",
      "\n",
      "The following objects are masked from ‘package:lubridate’:\n",
      "\n",
      "    hour, isoweek, mday, minute, month, quarter, second, wday, week,\n",
      "    yday, year\n",
      "\n",
      "\n",
      "The following objects are masked from ‘package:dplyr’:\n",
      "\n",
      "    between, first, last\n",
      "\n",
      "\n",
      "The following object is masked from ‘package:purrr’:\n",
      "\n",
      "    transpose\n",
      "\n",
      "\n"
     ]
    },
    {
     "data": {
      "text/html": [
       "<style>\n",
       ".list-inline {list-style: none; margin:0; padding: 0}\n",
       ".list-inline>li {display: inline-block}\n",
       ".list-inline>li:not(:last-child)::after {content: \"\\00b7\"; padding: 0 .5ex}\n",
       "</style>\n",
       "<ol class=list-inline><li>'sample_submission.csv'</li><li>'test.csv'</li><li>'train.csv'</li></ol>\n"
      ],
      "text/latex": [
       "\\begin{enumerate*}\n",
       "\\item 'sample\\_submission.csv'\n",
       "\\item 'test.csv'\n",
       "\\item 'train.csv'\n",
       "\\end{enumerate*}\n"
      ],
      "text/markdown": [
       "1. 'sample_submission.csv'\n",
       "2. 'test.csv'\n",
       "3. 'train.csv'\n",
       "\n",
       "\n"
      ],
      "text/plain": [
       "[1] \"sample_submission.csv\" \"test.csv\"              \"train.csv\"            "
      ]
     },
     "metadata": {},
     "output_type": "display_data"
    }
   ],
   "source": [
    "library(tidyverse) # metapackage of all tidyverse packages\n",
    "library(ggthemes) # for ggplot themes\n",
    "library(caret) # for modeling\n",
    "library(mltools) # for one-hot encoding\n",
    "library(data.table) # for data.table function\n",
    "list.files(path = \"../input/playground-series-s3e22\")\n",
    "options(warn=0)"
   ]
  },
  {
   "cell_type": "code",
   "execution_count": 2,
   "id": "aec1d685",
   "metadata": {
    "execution": {
     "iopub.execute_input": "2023-09-17T23:57:03.168673Z",
     "iopub.status.busy": "2023-09-17T23:57:03.134885Z",
     "iopub.status.idle": "2023-09-17T23:57:03.254154Z",
     "shell.execute_reply": "2023-09-17T23:57:03.252302Z"
    },
    "papermill": {
     "duration": 0.139765,
     "end_time": "2023-09-17T23:57:03.257363",
     "exception": false,
     "start_time": "2023-09-17T23:57:03.117598",
     "status": "completed"
    },
    "tags": [],
    "vscode": {
     "languageId": "r"
    }
   },
   "outputs": [
    {
     "data": {
      "text/html": [
       "<table class=\"dataframe\">\n",
       "<caption>A data.frame: 6 × 29</caption>\n",
       "<thead>\n",
       "\t<tr><th></th><th scope=col>id</th><th scope=col>surgery</th><th scope=col>age</th><th scope=col>hospital_number</th><th scope=col>rectal_temp</th><th scope=col>pulse</th><th scope=col>respiratory_rate</th><th scope=col>temp_of_extremities</th><th scope=col>peripheral_pulse</th><th scope=col>mucous_membrane</th><th scope=col>⋯</th><th scope=col>packed_cell_volume</th><th scope=col>total_protein</th><th scope=col>abdomo_appearance</th><th scope=col>abdomo_protein</th><th scope=col>surgical_lesion</th><th scope=col>lesion_1</th><th scope=col>lesion_2</th><th scope=col>lesion_3</th><th scope=col>cp_data</th><th scope=col>outcome</th></tr>\n",
       "\t<tr><th></th><th scope=col>&lt;int&gt;</th><th scope=col>&lt;chr&gt;</th><th scope=col>&lt;chr&gt;</th><th scope=col>&lt;int&gt;</th><th scope=col>&lt;dbl&gt;</th><th scope=col>&lt;dbl&gt;</th><th scope=col>&lt;dbl&gt;</th><th scope=col>&lt;chr&gt;</th><th scope=col>&lt;chr&gt;</th><th scope=col>&lt;chr&gt;</th><th scope=col>⋯</th><th scope=col>&lt;dbl&gt;</th><th scope=col>&lt;dbl&gt;</th><th scope=col>&lt;chr&gt;</th><th scope=col>&lt;dbl&gt;</th><th scope=col>&lt;chr&gt;</th><th scope=col>&lt;int&gt;</th><th scope=col>&lt;int&gt;</th><th scope=col>&lt;int&gt;</th><th scope=col>&lt;chr&gt;</th><th scope=col>&lt;chr&gt;</th></tr>\n",
       "</thead>\n",
       "<tbody>\n",
       "\t<tr><th scope=row>1</th><td>0</td><td>yes</td><td>adult</td><td> 530001</td><td>38.1</td><td>132</td><td>24</td><td>cool  </td><td>reduced</td><td>dark_cyanotic</td><td>⋯</td><td>57</td><td> 8.5</td><td>serosanguious</td><td>3.4</td><td>yes</td><td>2209</td><td>0</td><td>0</td><td>no </td><td>died      </td></tr>\n",
       "\t<tr><th scope=row>2</th><td>1</td><td>yes</td><td>adult</td><td> 533836</td><td>37.5</td><td> 88</td><td>12</td><td>cool  </td><td>normal </td><td>pale_cyanotic</td><td>⋯</td><td>33</td><td>64.0</td><td>serosanguious</td><td>2.0</td><td>yes</td><td>2208</td><td>0</td><td>0</td><td>no </td><td>euthanized</td></tr>\n",
       "\t<tr><th scope=row>3</th><td>2</td><td>yes</td><td>adult</td><td> 529812</td><td>38.3</td><td>120</td><td>28</td><td>cool  </td><td>reduced</td><td>pale_pink    </td><td>⋯</td><td>37</td><td> 6.4</td><td>serosanguious</td><td>3.4</td><td>yes</td><td>5124</td><td>0</td><td>0</td><td>no </td><td>lived     </td></tr>\n",
       "\t<tr><th scope=row>4</th><td>3</td><td>yes</td><td>adult</td><td>5262541</td><td>37.1</td><td> 72</td><td>30</td><td>cold  </td><td>reduced</td><td>pale_pink    </td><td>⋯</td><td>53</td><td> 7.0</td><td>cloudy       </td><td>3.9</td><td>yes</td><td>2208</td><td>0</td><td>0</td><td>yes</td><td>lived     </td></tr>\n",
       "\t<tr><th scope=row>5</th><td>4</td><td>no </td><td>adult</td><td>5299629</td><td>38.0</td><td> 52</td><td>48</td><td>normal</td><td>normal </td><td>normal_pink  </td><td>⋯</td><td>47</td><td> 7.3</td><td>cloudy       </td><td>2.6</td><td>no </td><td>   0</td><td>0</td><td>0</td><td>yes</td><td>lived     </td></tr>\n",
       "\t<tr><th scope=row>6</th><td>5</td><td>no </td><td>adult</td><td> 529642</td><td>38.1</td><td> 56</td><td>32</td><td>normal</td><td>normal </td><td>bright_pink  </td><td>⋯</td><td>49</td><td> 8.0</td><td>cloudy       </td><td>2.8</td><td>no </td><td>   0</td><td>0</td><td>0</td><td>yes</td><td>lived     </td></tr>\n",
       "</tbody>\n",
       "</table>\n"
      ],
      "text/latex": [
       "A data.frame: 6 × 29\n",
       "\\begin{tabular}{r|lllllllllllllllllllll}\n",
       "  & id & surgery & age & hospital\\_number & rectal\\_temp & pulse & respiratory\\_rate & temp\\_of\\_extremities & peripheral\\_pulse & mucous\\_membrane & ⋯ & packed\\_cell\\_volume & total\\_protein & abdomo\\_appearance & abdomo\\_protein & surgical\\_lesion & lesion\\_1 & lesion\\_2 & lesion\\_3 & cp\\_data & outcome\\\\\n",
       "  & <int> & <chr> & <chr> & <int> & <dbl> & <dbl> & <dbl> & <chr> & <chr> & <chr> & ⋯ & <dbl> & <dbl> & <chr> & <dbl> & <chr> & <int> & <int> & <int> & <chr> & <chr>\\\\\n",
       "\\hline\n",
       "\t1 & 0 & yes & adult &  530001 & 38.1 & 132 & 24 & cool   & reduced & dark\\_cyanotic & ⋯ & 57 &  8.5 & serosanguious & 3.4 & yes & 2209 & 0 & 0 & no  & died      \\\\\n",
       "\t2 & 1 & yes & adult &  533836 & 37.5 &  88 & 12 & cool   & normal  & pale\\_cyanotic & ⋯ & 33 & 64.0 & serosanguious & 2.0 & yes & 2208 & 0 & 0 & no  & euthanized\\\\\n",
       "\t3 & 2 & yes & adult &  529812 & 38.3 & 120 & 28 & cool   & reduced & pale\\_pink     & ⋯ & 37 &  6.4 & serosanguious & 3.4 & yes & 5124 & 0 & 0 & no  & lived     \\\\\n",
       "\t4 & 3 & yes & adult & 5262541 & 37.1 &  72 & 30 & cold   & reduced & pale\\_pink     & ⋯ & 53 &  7.0 & cloudy        & 3.9 & yes & 2208 & 0 & 0 & yes & lived     \\\\\n",
       "\t5 & 4 & no  & adult & 5299629 & 38.0 &  52 & 48 & normal & normal  & normal\\_pink   & ⋯ & 47 &  7.3 & cloudy        & 2.6 & no  &    0 & 0 & 0 & yes & lived     \\\\\n",
       "\t6 & 5 & no  & adult &  529642 & 38.1 &  56 & 32 & normal & normal  & bright\\_pink   & ⋯ & 49 &  8.0 & cloudy        & 2.8 & no  &    0 & 0 & 0 & yes & lived     \\\\\n",
       "\\end{tabular}\n"
      ],
      "text/markdown": [
       "\n",
       "A data.frame: 6 × 29\n",
       "\n",
       "| <!--/--> | id &lt;int&gt; | surgery &lt;chr&gt; | age &lt;chr&gt; | hospital_number &lt;int&gt; | rectal_temp &lt;dbl&gt; | pulse &lt;dbl&gt; | respiratory_rate &lt;dbl&gt; | temp_of_extremities &lt;chr&gt; | peripheral_pulse &lt;chr&gt; | mucous_membrane &lt;chr&gt; | ⋯ ⋯ | packed_cell_volume &lt;dbl&gt; | total_protein &lt;dbl&gt; | abdomo_appearance &lt;chr&gt; | abdomo_protein &lt;dbl&gt; | surgical_lesion &lt;chr&gt; | lesion_1 &lt;int&gt; | lesion_2 &lt;int&gt; | lesion_3 &lt;int&gt; | cp_data &lt;chr&gt; | outcome &lt;chr&gt; |\n",
       "|---|---|---|---|---|---|---|---|---|---|---|---|---|---|---|---|---|---|---|---|---|---|\n",
       "| 1 | 0 | yes | adult |  530001 | 38.1 | 132 | 24 | cool   | reduced | dark_cyanotic | ⋯ | 57 |  8.5 | serosanguious | 3.4 | yes | 2209 | 0 | 0 | no  | died       |\n",
       "| 2 | 1 | yes | adult |  533836 | 37.5 |  88 | 12 | cool   | normal  | pale_cyanotic | ⋯ | 33 | 64.0 | serosanguious | 2.0 | yes | 2208 | 0 | 0 | no  | euthanized |\n",
       "| 3 | 2 | yes | adult |  529812 | 38.3 | 120 | 28 | cool   | reduced | pale_pink     | ⋯ | 37 |  6.4 | serosanguious | 3.4 | yes | 5124 | 0 | 0 | no  | lived      |\n",
       "| 4 | 3 | yes | adult | 5262541 | 37.1 |  72 | 30 | cold   | reduced | pale_pink     | ⋯ | 53 |  7.0 | cloudy        | 3.9 | yes | 2208 | 0 | 0 | yes | lived      |\n",
       "| 5 | 4 | no  | adult | 5299629 | 38.0 |  52 | 48 | normal | normal  | normal_pink   | ⋯ | 47 |  7.3 | cloudy        | 2.6 | no  |    0 | 0 | 0 | yes | lived      |\n",
       "| 6 | 5 | no  | adult |  529642 | 38.1 |  56 | 32 | normal | normal  | bright_pink   | ⋯ | 49 |  8.0 | cloudy        | 2.8 | no  |    0 | 0 | 0 | yes | lived      |\n",
       "\n"
      ],
      "text/plain": [
       "  id surgery age   hospital_number rectal_temp pulse respiratory_rate\n",
       "1 0  yes     adult  530001         38.1        132   24              \n",
       "2 1  yes     adult  533836         37.5         88   12              \n",
       "3 2  yes     adult  529812         38.3        120   28              \n",
       "4 3  yes     adult 5262541         37.1         72   30              \n",
       "5 4  no      adult 5299629         38.0         52   48              \n",
       "6 5  no      adult  529642         38.1         56   32              \n",
       "  temp_of_extremities peripheral_pulse mucous_membrane ⋯ packed_cell_volume\n",
       "1 cool                reduced          dark_cyanotic   ⋯ 57                \n",
       "2 cool                normal           pale_cyanotic   ⋯ 33                \n",
       "3 cool                reduced          pale_pink       ⋯ 37                \n",
       "4 cold                reduced          pale_pink       ⋯ 53                \n",
       "5 normal              normal           normal_pink     ⋯ 47                \n",
       "6 normal              normal           bright_pink     ⋯ 49                \n",
       "  total_protein abdomo_appearance abdomo_protein surgical_lesion lesion_1\n",
       "1  8.5          serosanguious     3.4            yes             2209    \n",
       "2 64.0          serosanguious     2.0            yes             2208    \n",
       "3  6.4          serosanguious     3.4            yes             5124    \n",
       "4  7.0          cloudy            3.9            yes             2208    \n",
       "5  7.3          cloudy            2.6            no                 0    \n",
       "6  8.0          cloudy            2.8            no                 0    \n",
       "  lesion_2 lesion_3 cp_data outcome   \n",
       "1 0        0        no      died      \n",
       "2 0        0        no      euthanized\n",
       "3 0        0        no      lived     \n",
       "4 0        0        yes     lived     \n",
       "5 0        0        yes     lived     \n",
       "6 0        0        yes     lived     "
      ]
     },
     "metadata": {},
     "output_type": "display_data"
    },
    {
     "data": {
      "text/html": [
       "1235"
      ],
      "text/latex": [
       "1235"
      ],
      "text/markdown": [
       "1235"
      ],
      "text/plain": [
       "[1] 1235"
      ]
     },
     "metadata": {},
     "output_type": "display_data"
    }
   ],
   "source": [
    "# Read the train data\n",
    "train_data <- read.csv('../input/playground-series-s3e22/train.csv')\n",
    "\n",
    "train_data %>% head()\n",
    "train_data %>% nrow()\n",
    "\n",
    "# We have 29 variables to play with, including the 'id' and 'outcome' variable, the latter of which is our predicted value."
   ]
  },
  {
   "cell_type": "markdown",
   "id": "5a7588e4",
   "metadata": {
    "papermill": {
     "duration": 0.014082,
     "end_time": "2023-09-17T23:57:03.286008",
     "exception": false,
     "start_time": "2023-09-17T23:57:03.271926",
     "status": "completed"
    },
    "tags": []
   },
   "source": [
    "### Let's clean some data!"
   ]
  },
  {
   "cell_type": "code",
   "execution_count": 3,
   "id": "0430bd97",
   "metadata": {
    "execution": {
     "iopub.execute_input": "2023-09-17T23:57:03.318619Z",
     "iopub.status.busy": "2023-09-17T23:57:03.316816Z",
     "iopub.status.idle": "2023-09-17T23:57:03.364619Z",
     "shell.execute_reply": "2023-09-17T23:57:03.362716Z"
    },
    "papermill": {
     "duration": 0.067581,
     "end_time": "2023-09-17T23:57:03.367486",
     "exception": false,
     "start_time": "2023-09-17T23:57:03.299905",
     "status": "completed"
    },
    "tags": [],
    "vscode": {
     "languageId": "r"
    }
   },
   "outputs": [],
   "source": [
    "# The following columns all have data quality issues with the values 'none' and 'None' -- we will impute to 'None'\n",
    "\n",
    "train_data <- train_data %>% mutate(abdominal_distention = ifelse(abdominal_distention == 'none', 'None', abdominal_distention), \n",
    "                      nasogastric_tube = ifelse(nasogastric_tube == 'none', 'None', nasogastric_tube), nasogastric_reflux = ifelse(nasogastric_reflux == 'none', 'None', nasogastric_reflux))"
   ]
  },
  {
   "cell_type": "code",
   "execution_count": 4,
   "id": "fb7763cf",
   "metadata": {
    "execution": {
     "iopub.execute_input": "2023-09-17T23:57:03.399205Z",
     "iopub.status.busy": "2023-09-17T23:57:03.397578Z",
     "iopub.status.idle": "2023-09-17T23:57:03.419951Z",
     "shell.execute_reply": "2023-09-17T23:57:03.418014Z"
    },
    "papermill": {
     "duration": 0.041456,
     "end_time": "2023-09-17T23:57:03.422757",
     "exception": false,
     "start_time": "2023-09-17T23:57:03.381301",
     "status": "completed"
    },
    "tags": [],
    "vscode": {
     "languageId": "r"
    }
   },
   "outputs": [],
   "source": [
    "# Next, we'll make some factors out of the columns we just modified, in addition to a few others:\n",
    "train_data <- train_data %>% mutate(temp_of_extremities = as.factor(temp_of_extremities), \n",
    "                                    peripheral_pulse = as.factor(peripheral_pulse), \n",
    "                                    mucous_membrane = as.factor(mucous_membrane), \n",
    "                                    capillary_refill_time = as.factor(capillary_refill_time), \n",
    "                                    peristalsis = as.factor(peristalsis), \n",
    "                                    abdominal_distention = as.factor(abdominal_distention), \n",
    "                                    nasogastric_tube = as.factor(nasogastric_tube), \n",
    "                                    nasogastric_reflux = as.factor(nasogastric_reflux), \n",
    "                                    rectal_exam_feces = as.factor(rectal_exam_feces), \n",
    "                                    abdomen = as.factor(abdomen), \n",
    "                                    abdomo_appearance = as.factor(abdomo_appearance), \n",
    "                                    surgical_lesion = as.factor(surgical_lesion),\n",
    "                                    surgery = as.factor(surgery), \n",
    "                                    age = as.factor(age), \n",
    "                                    surgical_lesion = as.factor(surgical_lesion), \n",
    "                                    cp_data = as.factor(cp_data))"
   ]
  },
  {
   "cell_type": "code",
   "execution_count": 5,
   "id": "0a0640f1",
   "metadata": {
    "execution": {
     "iopub.execute_input": "2023-09-17T23:57:03.454519Z",
     "iopub.status.busy": "2023-09-17T23:57:03.452810Z",
     "iopub.status.idle": "2023-09-17T23:57:03.486193Z",
     "shell.execute_reply": "2023-09-17T23:57:03.484163Z"
    },
    "papermill": {
     "duration": 0.053099,
     "end_time": "2023-09-17T23:57:03.489686",
     "exception": false,
     "start_time": "2023-09-17T23:57:03.436587",
     "status": "completed"
    },
    "tags": [],
    "vscode": {
     "languageId": "r"
    }
   },
   "outputs": [],
   "source": [
    "# Now we want to convert some columns from character to numeric, but first we need to assign 'none' values to NA, so we can later replace them with the column means.\n",
    "\n",
    "train_data[train_data$rectal_temp == 'none',] <- NA\n",
    "train_data[train_data$pulse == 'none',] <- NA\n",
    "train_data[train_data$respiratory_rate == 'none',] <- NA\n",
    "train_data[train_data$nasogastric_reflux_ph == 'none',] <- NA\n",
    "train_data[train_data$packed_cell_volume == 'none',] <- NA\n",
    "train_data[train_data$total_protein == 'none',] <- NA"
   ]
  },
  {
   "cell_type": "code",
   "execution_count": 6,
   "id": "00771692",
   "metadata": {
    "execution": {
     "iopub.execute_input": "2023-09-17T23:57:03.520938Z",
     "iopub.status.busy": "2023-09-17T23:57:03.519236Z",
     "iopub.status.idle": "2023-09-17T23:57:03.539432Z",
     "shell.execute_reply": "2023-09-17T23:57:03.537521Z"
    },
    "papermill": {
     "duration": 0.039722,
     "end_time": "2023-09-17T23:57:03.542886",
     "exception": false,
     "start_time": "2023-09-17T23:57:03.503164",
     "status": "completed"
    },
    "tags": [],
    "vscode": {
     "languageId": "r"
    }
   },
   "outputs": [],
   "source": [
    "# And then we want to convert them to numeric.\n",
    "\n",
    "train_data <- train_data %>% mutate(rectal_temp = as.numeric(rectal_temp), \n",
    "                                    pulse = as.numeric(pulse), \n",
    "                                    respiratory_rate = as.numeric(respiratory_rate), \n",
    "                                    nasogastric_reflux_ph = as.numeric(nasogastric_reflux_ph), \n",
    "                                    packed_cell_volume = as.numeric(packed_cell_volume), \n",
    "                                    total_protein = as.numeric(total_protein), \n",
    "                                    abdomo_protein = as.numeric(abdomo_protein), \n",
    "                                    lesion_1 = as.numeric(lesion_1), \n",
    "                                    lesion_2 = as.numeric(lesion_2), \n",
    "                                    lesion_3 = as.numeric(lesion_3))"
   ]
  },
  {
   "cell_type": "code",
   "execution_count": 7,
   "id": "d849c1b7",
   "metadata": {
    "execution": {
     "iopub.execute_input": "2023-09-17T23:57:03.573822Z",
     "iopub.status.busy": "2023-09-17T23:57:03.572032Z",
     "iopub.status.idle": "2023-09-17T23:57:03.601747Z",
     "shell.execute_reply": "2023-09-17T23:57:03.599177Z"
    },
    "papermill": {
     "duration": 0.048929,
     "end_time": "2023-09-17T23:57:03.605149",
     "exception": false,
     "start_time": "2023-09-17T23:57:03.556220",
     "status": "completed"
    },
    "tags": [],
    "vscode": {
     "languageId": "r"
    }
   },
   "outputs": [
    {
     "data": {
      "text/html": [
       "0"
      ],
      "text/latex": [
       "0"
      ],
      "text/markdown": [
       "0"
      ],
      "text/plain": [
       "[1] 0"
      ]
     },
     "metadata": {},
     "output_type": "display_data"
    }
   ],
   "source": [
    "# For the lesion_ columns, we want to impute NAs to 0s\n",
    "train_data <- train_data %>% mutate(lesion_1 = replace_na(lesion_1, 0), lesion_2 = replace_na(lesion_2, 0), lesion_3 = replace_na(lesion_3, 0))\n",
    "\n",
    "train_data %>% filter(is.na(lesion_1) | is.na(lesion_2) | is.na(lesion_3)) %>% nrow() # check to make sure there are no NAs in the lesion columns"
   ]
  },
  {
   "cell_type": "code",
   "execution_count": 8,
   "id": "8fee083a",
   "metadata": {
    "execution": {
     "iopub.execute_input": "2023-09-17T23:57:03.636468Z",
     "iopub.status.busy": "2023-09-17T23:57:03.634727Z",
     "iopub.status.idle": "2023-09-17T23:57:03.698158Z",
     "shell.execute_reply": "2023-09-17T23:57:03.696295Z"
    },
    "papermill": {
     "duration": 0.083064,
     "end_time": "2023-09-17T23:57:03.701800",
     "exception": false,
     "start_time": "2023-09-17T23:57:03.618736",
     "status": "completed"
    },
    "tags": [],
    "vscode": {
     "languageId": "r"
    }
   },
   "outputs": [],
   "source": [
    "# Using the columns we imputed to NA, we now want to set those to the mean of their respective columns.\n",
    "train_data <- train_data %>% mutate(across(c(rectal_temp, pulse, respiratory_rate, nasogastric_reflux_ph, packed_cell_volume, total_protein, abdomo_protein), ~replace_na(., mean(., na.rm=TRUE))))"
   ]
  },
  {
   "cell_type": "code",
   "execution_count": 9,
   "id": "ff7a9275",
   "metadata": {
    "execution": {
     "iopub.execute_input": "2023-09-17T23:57:03.733360Z",
     "iopub.status.busy": "2023-09-17T23:57:03.731620Z",
     "iopub.status.idle": "2023-09-17T23:57:03.751989Z",
     "shell.execute_reply": "2023-09-17T23:57:03.750077Z"
    },
    "papermill": {
     "duration": 0.040249,
     "end_time": "2023-09-17T23:57:03.755648",
     "exception": false,
     "start_time": "2023-09-17T23:57:03.715399",
     "status": "completed"
    },
    "tags": [],
    "vscode": {
     "languageId": "r"
    }
   },
   "outputs": [],
   "source": [
    "# Taking a look at the pain values in both train & test, we see there are different values for what appear to be the same thing: slight & moderate\n",
    "# We decied to impute the trainnig data value 'slight' to 'moderate'\n",
    "train_data <- train_data %>% mutate(pain = as.factor(ifelse(pain == 'slight', 'moderate', pain)))\n",
    "\n",
    "# We could go further and group with 'mild_pain', but for now we'll leave it."
   ]
  },
  {
   "cell_type": "code",
   "execution_count": 10,
   "id": "6ba83710",
   "metadata": {
    "execution": {
     "iopub.execute_input": "2023-09-17T23:57:03.789727Z",
     "iopub.status.busy": "2023-09-17T23:57:03.788002Z",
     "iopub.status.idle": "2023-09-17T23:57:03.810501Z",
     "shell.execute_reply": "2023-09-17T23:57:03.808553Z"
    },
    "papermill": {
     "duration": 0.044757,
     "end_time": "2023-09-17T23:57:03.814306",
     "exception": false,
     "start_time": "2023-09-17T23:57:03.769549",
     "status": "completed"
    },
    "tags": [],
    "vscode": {
     "languageId": "r"
    }
   },
   "outputs": [],
   "source": [
    "# And finally, we make the predicted value a factor\n",
    "train_data <- train_data %>% mutate(outcome = as.factor(outcome))"
   ]
  },
  {
   "cell_type": "code",
   "execution_count": 11,
   "id": "16d455ea",
   "metadata": {
    "execution": {
     "iopub.execute_input": "2023-09-17T23:57:03.852858Z",
     "iopub.status.busy": "2023-09-17T23:57:03.850925Z",
     "iopub.status.idle": "2023-09-17T23:57:03.877576Z",
     "shell.execute_reply": "2023-09-17T23:57:03.874959Z"
    },
    "papermill": {
     "duration": 0.051779,
     "end_time": "2023-09-17T23:57:03.881496",
     "exception": false,
     "start_time": "2023-09-17T23:57:03.829717",
     "status": "completed"
    },
    "tags": [],
    "vscode": {
     "languageId": "r"
    }
   },
   "outputs": [
    {
     "data": {
      "text/html": [
       "<style>\n",
       ".dl-inline {width: auto; margin:0; padding: 0}\n",
       ".dl-inline>dt, .dl-inline>dd {float: none; width: auto; display: inline-block}\n",
       ".dl-inline>dt::after {content: \":\\0020\"; padding-right: .5ex}\n",
       ".dl-inline>dt:not(:first-of-type) {padding-left: .5ex}\n",
       "</style><dl class=dl-inline><dt>id</dt><dd>0</dd><dt>surgery</dt><dd>0</dd><dt>age</dt><dd>0</dd><dt>hospital_number</dt><dd>0</dd><dt>rectal_temp</dt><dd>0</dd><dt>pulse</dt><dd>0</dd><dt>respiratory_rate</dt><dd>0</dd><dt>temp_of_extremities</dt><dd>0</dd><dt>peripheral_pulse</dt><dd>0</dd><dt>mucous_membrane</dt><dd>0</dd><dt>capillary_refill_time</dt><dd>0</dd><dt>pain</dt><dd>0</dd><dt>peristalsis</dt><dd>0</dd><dt>abdominal_distention</dt><dd>0</dd><dt>nasogastric_tube</dt><dd>0</dd><dt>nasogastric_reflux</dt><dd>0</dd><dt>nasogastric_reflux_ph</dt><dd>0</dd><dt>rectal_exam_feces</dt><dd>0</dd><dt>abdomen</dt><dd>0</dd><dt>packed_cell_volume</dt><dd>0</dd><dt>total_protein</dt><dd>0</dd><dt>abdomo_appearance</dt><dd>0</dd><dt>abdomo_protein</dt><dd>0</dd><dt>surgical_lesion</dt><dd>0</dd><dt>lesion_1</dt><dd>0</dd><dt>lesion_2</dt><dd>0</dd><dt>lesion_3</dt><dd>0</dd><dt>cp_data</dt><dd>0</dd><dt>outcome</dt><dd>0</dd></dl>\n"
      ],
      "text/latex": [
       "\\begin{description*}\n",
       "\\item[id] 0\n",
       "\\item[surgery] 0\n",
       "\\item[age] 0\n",
       "\\item[hospital\\textbackslash{}\\_number] 0\n",
       "\\item[rectal\\textbackslash{}\\_temp] 0\n",
       "\\item[pulse] 0\n",
       "\\item[respiratory\\textbackslash{}\\_rate] 0\n",
       "\\item[temp\\textbackslash{}\\_of\\textbackslash{}\\_extremities] 0\n",
       "\\item[peripheral\\textbackslash{}\\_pulse] 0\n",
       "\\item[mucous\\textbackslash{}\\_membrane] 0\n",
       "\\item[capillary\\textbackslash{}\\_refill\\textbackslash{}\\_time] 0\n",
       "\\item[pain] 0\n",
       "\\item[peristalsis] 0\n",
       "\\item[abdominal\\textbackslash{}\\_distention] 0\n",
       "\\item[nasogastric\\textbackslash{}\\_tube] 0\n",
       "\\item[nasogastric\\textbackslash{}\\_reflux] 0\n",
       "\\item[nasogastric\\textbackslash{}\\_reflux\\textbackslash{}\\_ph] 0\n",
       "\\item[rectal\\textbackslash{}\\_exam\\textbackslash{}\\_feces] 0\n",
       "\\item[abdomen] 0\n",
       "\\item[packed\\textbackslash{}\\_cell\\textbackslash{}\\_volume] 0\n",
       "\\item[total\\textbackslash{}\\_protein] 0\n",
       "\\item[abdomo\\textbackslash{}\\_appearance] 0\n",
       "\\item[abdomo\\textbackslash{}\\_protein] 0\n",
       "\\item[surgical\\textbackslash{}\\_lesion] 0\n",
       "\\item[lesion\\textbackslash{}\\_1] 0\n",
       "\\item[lesion\\textbackslash{}\\_2] 0\n",
       "\\item[lesion\\textbackslash{}\\_3] 0\n",
       "\\item[cp\\textbackslash{}\\_data] 0\n",
       "\\item[outcome] 0\n",
       "\\end{description*}\n"
      ],
      "text/markdown": [
       "id\n",
       ":   0surgery\n",
       ":   0age\n",
       ":   0hospital_number\n",
       ":   0rectal_temp\n",
       ":   0pulse\n",
       ":   0respiratory_rate\n",
       ":   0temp_of_extremities\n",
       ":   0peripheral_pulse\n",
       ":   0mucous_membrane\n",
       ":   0capillary_refill_time\n",
       ":   0pain\n",
       ":   0peristalsis\n",
       ":   0abdominal_distention\n",
       ":   0nasogastric_tube\n",
       ":   0nasogastric_reflux\n",
       ":   0nasogastric_reflux_ph\n",
       ":   0rectal_exam_feces\n",
       ":   0abdomen\n",
       ":   0packed_cell_volume\n",
       ":   0total_protein\n",
       ":   0abdomo_appearance\n",
       ":   0abdomo_protein\n",
       ":   0surgical_lesion\n",
       ":   0lesion_1\n",
       ":   0lesion_2\n",
       ":   0lesion_3\n",
       ":   0cp_data\n",
       ":   0outcome\n",
       ":   0\n",
       "\n"
      ],
      "text/plain": [
       "                   id               surgery                   age \n",
       "                    0                     0                     0 \n",
       "      hospital_number           rectal_temp                 pulse \n",
       "                    0                     0                     0 \n",
       "     respiratory_rate   temp_of_extremities      peripheral_pulse \n",
       "                    0                     0                     0 \n",
       "      mucous_membrane capillary_refill_time                  pain \n",
       "                    0                     0                     0 \n",
       "          peristalsis  abdominal_distention      nasogastric_tube \n",
       "                    0                     0                     0 \n",
       "   nasogastric_reflux nasogastric_reflux_ph     rectal_exam_feces \n",
       "                    0                     0                     0 \n",
       "              abdomen    packed_cell_volume         total_protein \n",
       "                    0                     0                     0 \n",
       "    abdomo_appearance        abdomo_protein       surgical_lesion \n",
       "                    0                     0                     0 \n",
       "             lesion_1              lesion_2              lesion_3 \n",
       "                    0                     0                     0 \n",
       "              cp_data               outcome \n",
       "                    0                     0 "
      ]
     },
     "metadata": {},
     "output_type": "display_data"
    }
   ],
   "source": [
    "# We'll do a colSums looking for NAs -- we're clear!\n",
    "colSums(is.na(train_data))"
   ]
  },
  {
   "cell_type": "code",
   "execution_count": 12,
   "id": "d4e343c4",
   "metadata": {
    "execution": {
     "iopub.execute_input": "2023-09-17T23:57:03.916984Z",
     "iopub.status.busy": "2023-09-17T23:57:03.915016Z",
     "iopub.status.idle": "2023-09-17T23:57:03.997943Z",
     "shell.execute_reply": "2023-09-17T23:57:03.994986Z"
    },
    "papermill": {
     "duration": 0.105815,
     "end_time": "2023-09-17T23:57:04.002734",
     "exception": false,
     "start_time": "2023-09-17T23:57:03.896919",
     "status": "completed"
    },
    "tags": [],
    "vscode": {
     "languageId": "r"
    }
   },
   "outputs": [
    {
     "data": {
      "text/html": [
       "<table class=\"dataframe\">\n",
       "<caption>A data.frame: 6 × 28</caption>\n",
       "<thead>\n",
       "\t<tr><th></th><th scope=col>id</th><th scope=col>surgery</th><th scope=col>age</th><th scope=col>hospital_number</th><th scope=col>rectal_temp</th><th scope=col>pulse</th><th scope=col>respiratory_rate</th><th scope=col>temp_of_extremities</th><th scope=col>peripheral_pulse</th><th scope=col>mucous_membrane</th><th scope=col>⋯</th><th scope=col>abdomen</th><th scope=col>packed_cell_volume</th><th scope=col>total_protein</th><th scope=col>abdomo_appearance</th><th scope=col>abdomo_protein</th><th scope=col>surgical_lesion</th><th scope=col>lesion_1</th><th scope=col>lesion_2</th><th scope=col>lesion_3</th><th scope=col>cp_data</th></tr>\n",
       "\t<tr><th></th><th scope=col>&lt;int&gt;</th><th scope=col>&lt;chr&gt;</th><th scope=col>&lt;chr&gt;</th><th scope=col>&lt;int&gt;</th><th scope=col>&lt;dbl&gt;</th><th scope=col>&lt;dbl&gt;</th><th scope=col>&lt;dbl&gt;</th><th scope=col>&lt;chr&gt;</th><th scope=col>&lt;chr&gt;</th><th scope=col>&lt;chr&gt;</th><th scope=col>⋯</th><th scope=col>&lt;chr&gt;</th><th scope=col>&lt;dbl&gt;</th><th scope=col>&lt;dbl&gt;</th><th scope=col>&lt;chr&gt;</th><th scope=col>&lt;dbl&gt;</th><th scope=col>&lt;chr&gt;</th><th scope=col>&lt;int&gt;</th><th scope=col>&lt;int&gt;</th><th scope=col>&lt;int&gt;</th><th scope=col>&lt;chr&gt;</th></tr>\n",
       "</thead>\n",
       "<tbody>\n",
       "\t<tr><th scope=row>1</th><td>1235</td><td>no </td><td>adult</td><td>534053</td><td>38.6</td><td> 40</td><td>20</td><td>normal</td><td>normal </td><td>normal_pink  </td><td>⋯</td><td>distend_small</td><td>42.0</td><td> 7.5</td><td>clear        </td><td>2.3</td><td>no </td><td>   0</td><td>0</td><td>0</td><td>no </td></tr>\n",
       "\t<tr><th scope=row>2</th><td>1236</td><td>yes</td><td>adult</td><td>528469</td><td>38.2</td><td>112</td><td>48</td><td>cool  </td><td>reduced</td><td>bright_pink  </td><td>⋯</td><td>distend_small</td><td>44.0</td><td> 6.0</td><td>serosanguious</td><td>2.6</td><td>no </td><td>2208</td><td>0</td><td>0</td><td>yes</td></tr>\n",
       "\t<tr><th scope=row>3</th><td>1237</td><td>yes</td><td>adult</td><td>528178</td><td>37.7</td><td> 66</td><td>12</td><td>cool  </td><td>normal </td><td>bright_red   </td><td>⋯</td><td>distend_small</td><td>31.5</td><td> 6.0</td><td>cloudy       </td><td>1.6</td><td>yes</td><td>2205</td><td>0</td><td>0</td><td>yes</td></tr>\n",
       "\t<tr><th scope=row>4</th><td>1238</td><td>no </td><td>adult</td><td>534784</td><td>37.1</td><td> 88</td><td>20</td><td>cool  </td><td>reduced</td><td>pale_cyanotic</td><td>⋯</td><td>distend_large</td><td>75.0</td><td>81.0</td><td>None         </td><td>1.0</td><td>yes</td><td>1400</td><td>0</td><td>0</td><td>no </td></tr>\n",
       "\t<tr><th scope=row>5</th><td>1239</td><td>yes</td><td>adult</td><td>529840</td><td>38.3</td><td> 50</td><td>12</td><td>None  </td><td>normal </td><td>bright_pink  </td><td>⋯</td><td>distend_small</td><td>37.0</td><td> 6.8</td><td>cloudy       </td><td>2.6</td><td>yes</td><td>2208</td><td>0</td><td>0</td><td>yes</td></tr>\n",
       "\t<tr><th scope=row>6</th><td>1240</td><td>yes</td><td>adult</td><td>530239</td><td>38.5</td><td>104</td><td>36</td><td>cool  </td><td>normal </td><td>bright_red   </td><td>⋯</td><td>distend_small</td><td>69.0</td><td> 8.9</td><td>serosanguious</td><td>6.0</td><td>yes</td><td>2207</td><td>0</td><td>0</td><td>yes</td></tr>\n",
       "</tbody>\n",
       "</table>\n"
      ],
      "text/latex": [
       "A data.frame: 6 × 28\n",
       "\\begin{tabular}{r|lllllllllllllllllllll}\n",
       "  & id & surgery & age & hospital\\_number & rectal\\_temp & pulse & respiratory\\_rate & temp\\_of\\_extremities & peripheral\\_pulse & mucous\\_membrane & ⋯ & abdomen & packed\\_cell\\_volume & total\\_protein & abdomo\\_appearance & abdomo\\_protein & surgical\\_lesion & lesion\\_1 & lesion\\_2 & lesion\\_3 & cp\\_data\\\\\n",
       "  & <int> & <chr> & <chr> & <int> & <dbl> & <dbl> & <dbl> & <chr> & <chr> & <chr> & ⋯ & <chr> & <dbl> & <dbl> & <chr> & <dbl> & <chr> & <int> & <int> & <int> & <chr>\\\\\n",
       "\\hline\n",
       "\t1 & 1235 & no  & adult & 534053 & 38.6 &  40 & 20 & normal & normal  & normal\\_pink   & ⋯ & distend\\_small & 42.0 &  7.5 & clear         & 2.3 & no  &    0 & 0 & 0 & no \\\\\n",
       "\t2 & 1236 & yes & adult & 528469 & 38.2 & 112 & 48 & cool   & reduced & bright\\_pink   & ⋯ & distend\\_small & 44.0 &  6.0 & serosanguious & 2.6 & no  & 2208 & 0 & 0 & yes\\\\\n",
       "\t3 & 1237 & yes & adult & 528178 & 37.7 &  66 & 12 & cool   & normal  & bright\\_red    & ⋯ & distend\\_small & 31.5 &  6.0 & cloudy        & 1.6 & yes & 2205 & 0 & 0 & yes\\\\\n",
       "\t4 & 1238 & no  & adult & 534784 & 37.1 &  88 & 20 & cool   & reduced & pale\\_cyanotic & ⋯ & distend\\_large & 75.0 & 81.0 & None          & 1.0 & yes & 1400 & 0 & 0 & no \\\\\n",
       "\t5 & 1239 & yes & adult & 529840 & 38.3 &  50 & 12 & None   & normal  & bright\\_pink   & ⋯ & distend\\_small & 37.0 &  6.8 & cloudy        & 2.6 & yes & 2208 & 0 & 0 & yes\\\\\n",
       "\t6 & 1240 & yes & adult & 530239 & 38.5 & 104 & 36 & cool   & normal  & bright\\_red    & ⋯ & distend\\_small & 69.0 &  8.9 & serosanguious & 6.0 & yes & 2207 & 0 & 0 & yes\\\\\n",
       "\\end{tabular}\n"
      ],
      "text/markdown": [
       "\n",
       "A data.frame: 6 × 28\n",
       "\n",
       "| <!--/--> | id &lt;int&gt; | surgery &lt;chr&gt; | age &lt;chr&gt; | hospital_number &lt;int&gt; | rectal_temp &lt;dbl&gt; | pulse &lt;dbl&gt; | respiratory_rate &lt;dbl&gt; | temp_of_extremities &lt;chr&gt; | peripheral_pulse &lt;chr&gt; | mucous_membrane &lt;chr&gt; | ⋯ ⋯ | abdomen &lt;chr&gt; | packed_cell_volume &lt;dbl&gt; | total_protein &lt;dbl&gt; | abdomo_appearance &lt;chr&gt; | abdomo_protein &lt;dbl&gt; | surgical_lesion &lt;chr&gt; | lesion_1 &lt;int&gt; | lesion_2 &lt;int&gt; | lesion_3 &lt;int&gt; | cp_data &lt;chr&gt; |\n",
       "|---|---|---|---|---|---|---|---|---|---|---|---|---|---|---|---|---|---|---|---|---|---|\n",
       "| 1 | 1235 | no  | adult | 534053 | 38.6 |  40 | 20 | normal | normal  | normal_pink   | ⋯ | distend_small | 42.0 |  7.5 | clear         | 2.3 | no  |    0 | 0 | 0 | no  |\n",
       "| 2 | 1236 | yes | adult | 528469 | 38.2 | 112 | 48 | cool   | reduced | bright_pink   | ⋯ | distend_small | 44.0 |  6.0 | serosanguious | 2.6 | no  | 2208 | 0 | 0 | yes |\n",
       "| 3 | 1237 | yes | adult | 528178 | 37.7 |  66 | 12 | cool   | normal  | bright_red    | ⋯ | distend_small | 31.5 |  6.0 | cloudy        | 1.6 | yes | 2205 | 0 | 0 | yes |\n",
       "| 4 | 1238 | no  | adult | 534784 | 37.1 |  88 | 20 | cool   | reduced | pale_cyanotic | ⋯ | distend_large | 75.0 | 81.0 | None          | 1.0 | yes | 1400 | 0 | 0 | no  |\n",
       "| 5 | 1239 | yes | adult | 529840 | 38.3 |  50 | 12 | None   | normal  | bright_pink   | ⋯ | distend_small | 37.0 |  6.8 | cloudy        | 2.6 | yes | 2208 | 0 | 0 | yes |\n",
       "| 6 | 1240 | yes | adult | 530239 | 38.5 | 104 | 36 | cool   | normal  | bright_red    | ⋯ | distend_small | 69.0 |  8.9 | serosanguious | 6.0 | yes | 2207 | 0 | 0 | yes |\n",
       "\n"
      ],
      "text/plain": [
       "  id   surgery age   hospital_number rectal_temp pulse respiratory_rate\n",
       "1 1235 no      adult 534053          38.6         40   20              \n",
       "2 1236 yes     adult 528469          38.2        112   48              \n",
       "3 1237 yes     adult 528178          37.7         66   12              \n",
       "4 1238 no      adult 534784          37.1         88   20              \n",
       "5 1239 yes     adult 529840          38.3         50   12              \n",
       "6 1240 yes     adult 530239          38.5        104   36              \n",
       "  temp_of_extremities peripheral_pulse mucous_membrane ⋯ abdomen      \n",
       "1 normal              normal           normal_pink     ⋯ distend_small\n",
       "2 cool                reduced          bright_pink     ⋯ distend_small\n",
       "3 cool                normal           bright_red      ⋯ distend_small\n",
       "4 cool                reduced          pale_cyanotic   ⋯ distend_large\n",
       "5 None                normal           bright_pink     ⋯ distend_small\n",
       "6 cool                normal           bright_red      ⋯ distend_small\n",
       "  packed_cell_volume total_protein abdomo_appearance abdomo_protein\n",
       "1 42.0                7.5          clear             2.3           \n",
       "2 44.0                6.0          serosanguious     2.6           \n",
       "3 31.5                6.0          cloudy            1.6           \n",
       "4 75.0               81.0          None              1.0           \n",
       "5 37.0                6.8          cloudy            2.6           \n",
       "6 69.0                8.9          serosanguious     6.0           \n",
       "  surgical_lesion lesion_1 lesion_2 lesion_3 cp_data\n",
       "1 no                 0     0        0        no     \n",
       "2 no              2208     0        0        yes    \n",
       "3 yes             2205     0        0        yes    \n",
       "4 yes             1400     0        0        no     \n",
       "5 yes             2208     0        0        yes    \n",
       "6 yes             2207     0        0        yes    "
      ]
     },
     "metadata": {},
     "output_type": "display_data"
    }
   ],
   "source": [
    "# Let's do the same to the test_data, although the test_data appears to have better data quality!\n",
    "\n",
    "# Read the test data\n",
    "test_data <- read.csv('../input/playground-series-s3e22/test.csv')\n",
    "\n",
    "test_data %>% head()"
   ]
  },
  {
   "cell_type": "code",
   "execution_count": 13,
   "id": "b986df1d",
   "metadata": {
    "execution": {
     "iopub.execute_input": "2023-09-17T23:57:04.050242Z",
     "iopub.status.busy": "2023-09-17T23:57:04.048531Z",
     "iopub.status.idle": "2023-09-17T23:57:04.073840Z",
     "shell.execute_reply": "2023-09-17T23:57:04.070327Z"
    },
    "papermill": {
     "duration": 0.049041,
     "end_time": "2023-09-17T23:57:04.077826",
     "exception": false,
     "start_time": "2023-09-17T23:57:04.028785",
     "status": "completed"
    },
    "tags": [],
    "vscode": {
     "languageId": "r"
    }
   },
   "outputs": [],
   "source": [
    "# The following columns all have data quality issues with the values 'none' and 'None' -- we will impute to 'None'\n",
    "\n",
    "test_data <- test_data %>% mutate(abdominal_distention = ifelse(abdominal_distention == 'none', 'None', abdominal_distention), \n",
    "                      nasogastric_tube = ifelse(nasogastric_tube == 'none', 'None', nasogastric_tube), nasogastric_reflux = ifelse(nasogastric_reflux == 'none', 'None', nasogastric_reflux))"
   ]
  },
  {
   "cell_type": "code",
   "execution_count": 14,
   "id": "23205339",
   "metadata": {
    "execution": {
     "iopub.execute_input": "2023-09-17T23:57:04.117399Z",
     "iopub.status.busy": "2023-09-17T23:57:04.114056Z",
     "iopub.status.idle": "2023-09-17T23:57:04.144015Z",
     "shell.execute_reply": "2023-09-17T23:57:04.141795Z"
    },
    "papermill": {
     "duration": 0.052903,
     "end_time": "2023-09-17T23:57:04.147522",
     "exception": false,
     "start_time": "2023-09-17T23:57:04.094619",
     "status": "completed"
    },
    "tags": [],
    "vscode": {
     "languageId": "r"
    }
   },
   "outputs": [],
   "source": [
    "# There don't appear to be the same 'None' / 'none' issues in the test data, which is great.\n",
    "# Still need to make some columns factors\n",
    "test_data <- test_data %>% mutate(temp_of_extremities = as.factor(temp_of_extremities), \n",
    "                                    peripheral_pulse = as.factor(peripheral_pulse), \n",
    "                                    mucous_membrane = as.factor(mucous_membrane), \n",
    "                                    capillary_refill_time = as.factor(capillary_refill_time), \n",
    "                                    pain = as.factor(pain), peristalsis = as.factor(peristalsis), \n",
    "                                    abdominal_distention = as.factor(abdominal_distention), \n",
    "                                    nasogastric_tube = as.factor(nasogastric_tube), \n",
    "                                    nasogastric_reflux = as.factor(nasogastric_reflux), \n",
    "                                    rectal_exam_feces = as.factor(rectal_exam_feces), \n",
    "                                    abdomen = as.factor(abdomen), \n",
    "                                    abdomo_appearance = as.factor(abdomo_appearance), \n",
    "                                    surgery = as.factor(surgery), \n",
    "                                    age = as.factor(age), \n",
    "                                    surgical_lesion = as.factor(surgical_lesion), \n",
    "                                    cp_data = as.factor(cp_data))"
   ]
  },
  {
   "cell_type": "code",
   "execution_count": 15,
   "id": "6a4e4151",
   "metadata": {
    "execution": {
     "iopub.execute_input": "2023-09-17T23:57:04.181091Z",
     "iopub.status.busy": "2023-09-17T23:57:04.179176Z",
     "iopub.status.idle": "2023-09-17T23:57:04.202592Z",
     "shell.execute_reply": "2023-09-17T23:57:04.199980Z"
    },
    "papermill": {
     "duration": 0.043668,
     "end_time": "2023-09-17T23:57:04.205715",
     "exception": false,
     "start_time": "2023-09-17T23:57:04.162047",
     "status": "completed"
    },
    "tags": [],
    "vscode": {
     "languageId": "r"
    }
   },
   "outputs": [
    {
     "data": {
      "text/html": [
       "<style>\n",
       ".dl-inline {width: auto; margin:0; padding: 0}\n",
       ".dl-inline>dt, .dl-inline>dd {float: none; width: auto; display: inline-block}\n",
       ".dl-inline>dt::after {content: \":\\0020\"; padding-right: .5ex}\n",
       ".dl-inline>dt:not(:first-of-type) {padding-left: .5ex}\n",
       "</style><dl class=dl-inline><dt>id</dt><dd>0</dd><dt>surgery</dt><dd>0</dd><dt>age</dt><dd>0</dd><dt>hospital_number</dt><dd>0</dd><dt>rectal_temp</dt><dd>0</dd><dt>pulse</dt><dd>0</dd><dt>respiratory_rate</dt><dd>0</dd><dt>temp_of_extremities</dt><dd>0</dd><dt>peripheral_pulse</dt><dd>0</dd><dt>mucous_membrane</dt><dd>0</dd><dt>capillary_refill_time</dt><dd>0</dd><dt>pain</dt><dd>0</dd><dt>peristalsis</dt><dd>0</dd><dt>abdominal_distention</dt><dd>0</dd><dt>nasogastric_tube</dt><dd>0</dd><dt>nasogastric_reflux</dt><dd>0</dd><dt>nasogastric_reflux_ph</dt><dd>0</dd><dt>rectal_exam_feces</dt><dd>0</dd><dt>abdomen</dt><dd>0</dd><dt>packed_cell_volume</dt><dd>0</dd><dt>total_protein</dt><dd>0</dd><dt>abdomo_appearance</dt><dd>0</dd><dt>abdomo_protein</dt><dd>0</dd><dt>surgical_lesion</dt><dd>0</dd><dt>lesion_1</dt><dd>0</dd><dt>lesion_2</dt><dd>0</dd><dt>lesion_3</dt><dd>0</dd><dt>cp_data</dt><dd>0</dd></dl>\n"
      ],
      "text/latex": [
       "\\begin{description*}\n",
       "\\item[id] 0\n",
       "\\item[surgery] 0\n",
       "\\item[age] 0\n",
       "\\item[hospital\\textbackslash{}\\_number] 0\n",
       "\\item[rectal\\textbackslash{}\\_temp] 0\n",
       "\\item[pulse] 0\n",
       "\\item[respiratory\\textbackslash{}\\_rate] 0\n",
       "\\item[temp\\textbackslash{}\\_of\\textbackslash{}\\_extremities] 0\n",
       "\\item[peripheral\\textbackslash{}\\_pulse] 0\n",
       "\\item[mucous\\textbackslash{}\\_membrane] 0\n",
       "\\item[capillary\\textbackslash{}\\_refill\\textbackslash{}\\_time] 0\n",
       "\\item[pain] 0\n",
       "\\item[peristalsis] 0\n",
       "\\item[abdominal\\textbackslash{}\\_distention] 0\n",
       "\\item[nasogastric\\textbackslash{}\\_tube] 0\n",
       "\\item[nasogastric\\textbackslash{}\\_reflux] 0\n",
       "\\item[nasogastric\\textbackslash{}\\_reflux\\textbackslash{}\\_ph] 0\n",
       "\\item[rectal\\textbackslash{}\\_exam\\textbackslash{}\\_feces] 0\n",
       "\\item[abdomen] 0\n",
       "\\item[packed\\textbackslash{}\\_cell\\textbackslash{}\\_volume] 0\n",
       "\\item[total\\textbackslash{}\\_protein] 0\n",
       "\\item[abdomo\\textbackslash{}\\_appearance] 0\n",
       "\\item[abdomo\\textbackslash{}\\_protein] 0\n",
       "\\item[surgical\\textbackslash{}\\_lesion] 0\n",
       "\\item[lesion\\textbackslash{}\\_1] 0\n",
       "\\item[lesion\\textbackslash{}\\_2] 0\n",
       "\\item[lesion\\textbackslash{}\\_3] 0\n",
       "\\item[cp\\textbackslash{}\\_data] 0\n",
       "\\end{description*}\n"
      ],
      "text/markdown": [
       "id\n",
       ":   0surgery\n",
       ":   0age\n",
       ":   0hospital_number\n",
       ":   0rectal_temp\n",
       ":   0pulse\n",
       ":   0respiratory_rate\n",
       ":   0temp_of_extremities\n",
       ":   0peripheral_pulse\n",
       ":   0mucous_membrane\n",
       ":   0capillary_refill_time\n",
       ":   0pain\n",
       ":   0peristalsis\n",
       ":   0abdominal_distention\n",
       ":   0nasogastric_tube\n",
       ":   0nasogastric_reflux\n",
       ":   0nasogastric_reflux_ph\n",
       ":   0rectal_exam_feces\n",
       ":   0abdomen\n",
       ":   0packed_cell_volume\n",
       ":   0total_protein\n",
       ":   0abdomo_appearance\n",
       ":   0abdomo_protein\n",
       ":   0surgical_lesion\n",
       ":   0lesion_1\n",
       ":   0lesion_2\n",
       ":   0lesion_3\n",
       ":   0cp_data\n",
       ":   0\n",
       "\n"
      ],
      "text/plain": [
       "                   id               surgery                   age \n",
       "                    0                     0                     0 \n",
       "      hospital_number           rectal_temp                 pulse \n",
       "                    0                     0                     0 \n",
       "     respiratory_rate   temp_of_extremities      peripheral_pulse \n",
       "                    0                     0                     0 \n",
       "      mucous_membrane capillary_refill_time                  pain \n",
       "                    0                     0                     0 \n",
       "          peristalsis  abdominal_distention      nasogastric_tube \n",
       "                    0                     0                     0 \n",
       "   nasogastric_reflux nasogastric_reflux_ph     rectal_exam_feces \n",
       "                    0                     0                     0 \n",
       "              abdomen    packed_cell_volume         total_protein \n",
       "                    0                     0                     0 \n",
       "    abdomo_appearance        abdomo_protein       surgical_lesion \n",
       "                    0                     0                     0 \n",
       "             lesion_1              lesion_2              lesion_3 \n",
       "                    0                     0                     0 \n",
       "              cp_data \n",
       "                    0 "
      ]
     },
     "metadata": {},
     "output_type": "display_data"
    }
   ],
   "source": [
    "# If we sum the NAs across the columns, we don't get any -- that's great!!\n",
    "colSums(is.na(test_data))"
   ]
  },
  {
   "cell_type": "code",
   "execution_count": 16,
   "id": "010cd56b",
   "metadata": {
    "execution": {
     "iopub.execute_input": "2023-09-17T23:57:04.240157Z",
     "iopub.status.busy": "2023-09-17T23:57:04.238497Z",
     "iopub.status.idle": "2023-09-17T23:57:04.293389Z",
     "shell.execute_reply": "2023-09-17T23:57:04.290836Z"
    },
    "papermill": {
     "duration": 0.075737,
     "end_time": "2023-09-17T23:57:04.296481",
     "exception": false,
     "start_time": "2023-09-17T23:57:04.220744",
     "status": "completed"
    },
    "tags": [],
    "vscode": {
     "languageId": "r"
    }
   },
   "outputs": [
    {
     "data": {
      "text/html": [
       "<table class=\"dataframe\">\n",
       "<caption>A data.frame: 6 × 28</caption>\n",
       "<thead>\n",
       "\t<tr><th></th><th scope=col>id</th><th scope=col>surgery</th><th scope=col>age</th><th scope=col>hospital_number</th><th scope=col>rectal_temp</th><th scope=col>pulse</th><th scope=col>respiratory_rate</th><th scope=col>temp_of_extremities</th><th scope=col>peripheral_pulse</th><th scope=col>mucous_membrane</th><th scope=col>⋯</th><th scope=col>abdomen</th><th scope=col>packed_cell_volume</th><th scope=col>total_protein</th><th scope=col>abdomo_appearance</th><th scope=col>abdomo_protein</th><th scope=col>surgical_lesion</th><th scope=col>lesion_1</th><th scope=col>lesion_2</th><th scope=col>lesion_3</th><th scope=col>cp_data</th></tr>\n",
       "\t<tr><th></th><th scope=col>&lt;int&gt;</th><th scope=col>&lt;fct&gt;</th><th scope=col>&lt;fct&gt;</th><th scope=col>&lt;int&gt;</th><th scope=col>&lt;dbl&gt;</th><th scope=col>&lt;dbl&gt;</th><th scope=col>&lt;dbl&gt;</th><th scope=col>&lt;fct&gt;</th><th scope=col>&lt;fct&gt;</th><th scope=col>&lt;fct&gt;</th><th scope=col>⋯</th><th scope=col>&lt;fct&gt;</th><th scope=col>&lt;dbl&gt;</th><th scope=col>&lt;dbl&gt;</th><th scope=col>&lt;fct&gt;</th><th scope=col>&lt;dbl&gt;</th><th scope=col>&lt;fct&gt;</th><th scope=col>&lt;int&gt;</th><th scope=col>&lt;int&gt;</th><th scope=col>&lt;int&gt;</th><th scope=col>&lt;fct&gt;</th></tr>\n",
       "</thead>\n",
       "<tbody>\n",
       "\t<tr><th scope=row>1</th><td>1235</td><td>no </td><td>adult</td><td>534053</td><td>38.6</td><td> 40</td><td>20</td><td>normal</td><td>normal </td><td>normal_pink  </td><td>⋯</td><td>distend_small</td><td>42.0</td><td> 7.5</td><td>clear        </td><td>2.3</td><td>no </td><td>   0</td><td>0</td><td>0</td><td>no </td></tr>\n",
       "\t<tr><th scope=row>2</th><td>1236</td><td>yes</td><td>adult</td><td>528469</td><td>38.2</td><td>112</td><td>48</td><td>cool  </td><td>reduced</td><td>bright_pink  </td><td>⋯</td><td>distend_small</td><td>44.0</td><td> 6.0</td><td>serosanguious</td><td>2.6</td><td>no </td><td>2208</td><td>0</td><td>0</td><td>yes</td></tr>\n",
       "\t<tr><th scope=row>3</th><td>1237</td><td>yes</td><td>adult</td><td>528178</td><td>37.7</td><td> 66</td><td>12</td><td>cool  </td><td>normal </td><td>bright_red   </td><td>⋯</td><td>distend_small</td><td>31.5</td><td> 6.0</td><td>cloudy       </td><td>1.6</td><td>yes</td><td>2205</td><td>0</td><td>0</td><td>yes</td></tr>\n",
       "\t<tr><th scope=row>4</th><td>1238</td><td>no </td><td>adult</td><td>534784</td><td>37.1</td><td> 88</td><td>20</td><td>cool  </td><td>reduced</td><td>pale_cyanotic</td><td>⋯</td><td>distend_large</td><td>75.0</td><td>81.0</td><td>None         </td><td>1.0</td><td>yes</td><td>1400</td><td>0</td><td>0</td><td>no </td></tr>\n",
       "\t<tr><th scope=row>5</th><td>1239</td><td>yes</td><td>adult</td><td>529840</td><td>38.3</td><td> 50</td><td>12</td><td>None  </td><td>normal </td><td>bright_pink  </td><td>⋯</td><td>distend_small</td><td>37.0</td><td> 6.8</td><td>cloudy       </td><td>2.6</td><td>yes</td><td>2208</td><td>0</td><td>0</td><td>yes</td></tr>\n",
       "\t<tr><th scope=row>6</th><td>1240</td><td>yes</td><td>adult</td><td>530239</td><td>38.5</td><td>104</td><td>36</td><td>cool  </td><td>normal </td><td>bright_red   </td><td>⋯</td><td>distend_small</td><td>69.0</td><td> 8.9</td><td>serosanguious</td><td>6.0</td><td>yes</td><td>2207</td><td>0</td><td>0</td><td>yes</td></tr>\n",
       "</tbody>\n",
       "</table>\n"
      ],
      "text/latex": [
       "A data.frame: 6 × 28\n",
       "\\begin{tabular}{r|lllllllllllllllllllll}\n",
       "  & id & surgery & age & hospital\\_number & rectal\\_temp & pulse & respiratory\\_rate & temp\\_of\\_extremities & peripheral\\_pulse & mucous\\_membrane & ⋯ & abdomen & packed\\_cell\\_volume & total\\_protein & abdomo\\_appearance & abdomo\\_protein & surgical\\_lesion & lesion\\_1 & lesion\\_2 & lesion\\_3 & cp\\_data\\\\\n",
       "  & <int> & <fct> & <fct> & <int> & <dbl> & <dbl> & <dbl> & <fct> & <fct> & <fct> & ⋯ & <fct> & <dbl> & <dbl> & <fct> & <dbl> & <fct> & <int> & <int> & <int> & <fct>\\\\\n",
       "\\hline\n",
       "\t1 & 1235 & no  & adult & 534053 & 38.6 &  40 & 20 & normal & normal  & normal\\_pink   & ⋯ & distend\\_small & 42.0 &  7.5 & clear         & 2.3 & no  &    0 & 0 & 0 & no \\\\\n",
       "\t2 & 1236 & yes & adult & 528469 & 38.2 & 112 & 48 & cool   & reduced & bright\\_pink   & ⋯ & distend\\_small & 44.0 &  6.0 & serosanguious & 2.6 & no  & 2208 & 0 & 0 & yes\\\\\n",
       "\t3 & 1237 & yes & adult & 528178 & 37.7 &  66 & 12 & cool   & normal  & bright\\_red    & ⋯ & distend\\_small & 31.5 &  6.0 & cloudy        & 1.6 & yes & 2205 & 0 & 0 & yes\\\\\n",
       "\t4 & 1238 & no  & adult & 534784 & 37.1 &  88 & 20 & cool   & reduced & pale\\_cyanotic & ⋯ & distend\\_large & 75.0 & 81.0 & None          & 1.0 & yes & 1400 & 0 & 0 & no \\\\\n",
       "\t5 & 1239 & yes & adult & 529840 & 38.3 &  50 & 12 & None   & normal  & bright\\_pink   & ⋯ & distend\\_small & 37.0 &  6.8 & cloudy        & 2.6 & yes & 2208 & 0 & 0 & yes\\\\\n",
       "\t6 & 1240 & yes & adult & 530239 & 38.5 & 104 & 36 & cool   & normal  & bright\\_red    & ⋯ & distend\\_small & 69.0 &  8.9 & serosanguious & 6.0 & yes & 2207 & 0 & 0 & yes\\\\\n",
       "\\end{tabular}\n"
      ],
      "text/markdown": [
       "\n",
       "A data.frame: 6 × 28\n",
       "\n",
       "| <!--/--> | id &lt;int&gt; | surgery &lt;fct&gt; | age &lt;fct&gt; | hospital_number &lt;int&gt; | rectal_temp &lt;dbl&gt; | pulse &lt;dbl&gt; | respiratory_rate &lt;dbl&gt; | temp_of_extremities &lt;fct&gt; | peripheral_pulse &lt;fct&gt; | mucous_membrane &lt;fct&gt; | ⋯ ⋯ | abdomen &lt;fct&gt; | packed_cell_volume &lt;dbl&gt; | total_protein &lt;dbl&gt; | abdomo_appearance &lt;fct&gt; | abdomo_protein &lt;dbl&gt; | surgical_lesion &lt;fct&gt; | lesion_1 &lt;int&gt; | lesion_2 &lt;int&gt; | lesion_3 &lt;int&gt; | cp_data &lt;fct&gt; |\n",
       "|---|---|---|---|---|---|---|---|---|---|---|---|---|---|---|---|---|---|---|---|---|---|\n",
       "| 1 | 1235 | no  | adult | 534053 | 38.6 |  40 | 20 | normal | normal  | normal_pink   | ⋯ | distend_small | 42.0 |  7.5 | clear         | 2.3 | no  |    0 | 0 | 0 | no  |\n",
       "| 2 | 1236 | yes | adult | 528469 | 38.2 | 112 | 48 | cool   | reduced | bright_pink   | ⋯ | distend_small | 44.0 |  6.0 | serosanguious | 2.6 | no  | 2208 | 0 | 0 | yes |\n",
       "| 3 | 1237 | yes | adult | 528178 | 37.7 |  66 | 12 | cool   | normal  | bright_red    | ⋯ | distend_small | 31.5 |  6.0 | cloudy        | 1.6 | yes | 2205 | 0 | 0 | yes |\n",
       "| 4 | 1238 | no  | adult | 534784 | 37.1 |  88 | 20 | cool   | reduced | pale_cyanotic | ⋯ | distend_large | 75.0 | 81.0 | None          | 1.0 | yes | 1400 | 0 | 0 | no  |\n",
       "| 5 | 1239 | yes | adult | 529840 | 38.3 |  50 | 12 | None   | normal  | bright_pink   | ⋯ | distend_small | 37.0 |  6.8 | cloudy        | 2.6 | yes | 2208 | 0 | 0 | yes |\n",
       "| 6 | 1240 | yes | adult | 530239 | 38.5 | 104 | 36 | cool   | normal  | bright_red    | ⋯ | distend_small | 69.0 |  8.9 | serosanguious | 6.0 | yes | 2207 | 0 | 0 | yes |\n",
       "\n"
      ],
      "text/plain": [
       "  id   surgery age   hospital_number rectal_temp pulse respiratory_rate\n",
       "1 1235 no      adult 534053          38.6         40   20              \n",
       "2 1236 yes     adult 528469          38.2        112   48              \n",
       "3 1237 yes     adult 528178          37.7         66   12              \n",
       "4 1238 no      adult 534784          37.1         88   20              \n",
       "5 1239 yes     adult 529840          38.3         50   12              \n",
       "6 1240 yes     adult 530239          38.5        104   36              \n",
       "  temp_of_extremities peripheral_pulse mucous_membrane ⋯ abdomen      \n",
       "1 normal              normal           normal_pink     ⋯ distend_small\n",
       "2 cool                reduced          bright_pink     ⋯ distend_small\n",
       "3 cool                normal           bright_red      ⋯ distend_small\n",
       "4 cool                reduced          pale_cyanotic   ⋯ distend_large\n",
       "5 None                normal           bright_pink     ⋯ distend_small\n",
       "6 cool                normal           bright_red      ⋯ distend_small\n",
       "  packed_cell_volume total_protein abdomo_appearance abdomo_protein\n",
       "1 42.0                7.5          clear             2.3           \n",
       "2 44.0                6.0          serosanguious     2.6           \n",
       "3 31.5                6.0          cloudy            1.6           \n",
       "4 75.0               81.0          None              1.0           \n",
       "5 37.0                6.8          cloudy            2.6           \n",
       "6 69.0                8.9          serosanguious     6.0           \n",
       "  surgical_lesion lesion_1 lesion_2 lesion_3 cp_data\n",
       "1 no                 0     0        0        no     \n",
       "2 no              2208     0        0        yes    \n",
       "3 yes             2205     0        0        yes    \n",
       "4 yes             1400     0        0        no     \n",
       "5 yes             2208     0        0        yes    \n",
       "6 yes             2207     0        0        yes    "
      ]
     },
     "metadata": {},
     "output_type": "display_data"
    }
   ],
   "source": [
    "# Our test_data now looks like this\n",
    "test_data %>% head()"
   ]
  },
  {
   "cell_type": "code",
   "execution_count": 17,
   "id": "2844598a",
   "metadata": {
    "execution": {
     "iopub.execute_input": "2023-09-17T23:57:04.331361Z",
     "iopub.status.busy": "2023-09-17T23:57:04.329693Z",
     "iopub.status.idle": "2023-09-17T23:57:04.358298Z",
     "shell.execute_reply": "2023-09-17T23:57:04.355844Z"
    },
    "papermill": {
     "duration": 0.050197,
     "end_time": "2023-09-17T23:57:04.362017",
     "exception": false,
     "start_time": "2023-09-17T23:57:04.311820",
     "status": "completed"
    },
    "tags": [],
    "vscode": {
     "languageId": "r"
    }
   },
   "outputs": [
    {
     "data": {
      "text/html": [
       "<table class=\"dataframe\">\n",
       "<caption>A data.frame: 3 × 1</caption>\n",
       "<thead>\n",
       "\t<tr><th></th><th scope=col>outcome</th></tr>\n",
       "\t<tr><th></th><th scope=col>&lt;fct&gt;</th></tr>\n",
       "</thead>\n",
       "<tbody>\n",
       "\t<tr><th scope=row>1</th><td>died      </td></tr>\n",
       "\t<tr><th scope=row>2</th><td>euthanized</td></tr>\n",
       "\t<tr><th scope=row>3</th><td>lived     </td></tr>\n",
       "</tbody>\n",
       "</table>\n"
      ],
      "text/latex": [
       "A data.frame: 3 × 1\n",
       "\\begin{tabular}{r|l}\n",
       "  & outcome\\\\\n",
       "  & <fct>\\\\\n",
       "\\hline\n",
       "\t1 & died      \\\\\n",
       "\t2 & euthanized\\\\\n",
       "\t3 & lived     \\\\\n",
       "\\end{tabular}\n"
      ],
      "text/markdown": [
       "\n",
       "A data.frame: 3 × 1\n",
       "\n",
       "| <!--/--> | outcome &lt;fct&gt; |\n",
       "|---|---|\n",
       "| 1 | died       |\n",
       "| 2 | euthanized |\n",
       "| 3 | lived      |\n",
       "\n"
      ],
      "text/plain": [
       "  outcome   \n",
       "1 died      \n",
       "2 euthanized\n",
       "3 lived     "
      ]
     },
     "metadata": {},
     "output_type": "display_data"
    }
   ],
   "source": [
    "# From the training data, we see there are three possible outcomes:\n",
    "train_data %>% select(outcome) %>% unique()"
   ]
  },
  {
   "cell_type": "code",
   "execution_count": 18,
   "id": "75344a0f",
   "metadata": {
    "execution": {
     "iopub.execute_input": "2023-09-17T23:57:04.402022Z",
     "iopub.status.busy": "2023-09-17T23:57:04.400211Z",
     "iopub.status.idle": "2023-09-17T23:57:04.956321Z",
     "shell.execute_reply": "2023-09-17T23:57:04.954316Z"
    },
    "papermill": {
     "duration": 0.580482,
     "end_time": "2023-09-17T23:57:04.959852",
     "exception": false,
     "start_time": "2023-09-17T23:57:04.379370",
     "status": "completed"
    },
    "tags": [],
    "vscode": {
     "languageId": "r"
    }
   },
   "outputs": [
    {
     "data": {
      "image/png": "[encoded data removed]"
     },
     "metadata": {
      "image/png": {
       "height": 480,
       "width": 360
      }
     },
     "output_type": "display_data"
    }
   ],
   "source": [
    "# How prevalent are each one in the data?\n",
    "# Adjust plot size\n",
    "options(repr.plot.width = 6, repr.plot.height =8)\n",
    "train_data %>% group_by(outcome) %>% summarize(total = n()) %>% select(outcome, total) %>% ggplot(aes(x=reorder(outcome, total))) + geom_col(aes(y=total), fill = 'steelblue') + theme_clean()"
   ]
  },
  {
   "cell_type": "code",
   "execution_count": 19,
   "id": "54f0257d",
   "metadata": {
    "execution": {
     "iopub.execute_input": "2023-09-17T23:57:04.999047Z",
     "iopub.status.busy": "2023-09-17T23:57:04.997330Z",
     "iopub.status.idle": "2023-09-17T23:57:05.037743Z",
     "shell.execute_reply": "2023-09-17T23:57:05.035720Z"
    },
    "papermill": {
     "duration": 0.063182,
     "end_time": "2023-09-17T23:57:05.040587",
     "exception": false,
     "start_time": "2023-09-17T23:57:04.977405",
     "status": "completed"
    },
    "tags": [],
    "vscode": {
     "languageId": "r"
    }
   },
   "outputs": [
    {
     "data": {
      "text/html": [
       "<table class=\"dataframe\">\n",
       "<caption>A tibble: 3 × 2</caption>\n",
       "<thead>\n",
       "\t<tr><th scope=col>outcome</th><th scope=col>total</th></tr>\n",
       "\t<tr><th scope=col>&lt;fct&gt;</th><th scope=col>&lt;dbl&gt;</th></tr>\n",
       "</thead>\n",
       "<tbody>\n",
       "\t<tr><td>died      </td><td>0.3319838</td></tr>\n",
       "\t<tr><td>euthanized</td><td>0.2032389</td></tr>\n",
       "\t<tr><td>lived     </td><td>0.4647773</td></tr>\n",
       "</tbody>\n",
       "</table>\n"
      ],
      "text/latex": [
       "A tibble: 3 × 2\n",
       "\\begin{tabular}{ll}\n",
       " outcome & total\\\\\n",
       " <fct> & <dbl>\\\\\n",
       "\\hline\n",
       "\t died       & 0.3319838\\\\\n",
       "\t euthanized & 0.2032389\\\\\n",
       "\t lived      & 0.4647773\\\\\n",
       "\\end{tabular}\n"
      ],
      "text/markdown": [
       "\n",
       "A tibble: 3 × 2\n",
       "\n",
       "| outcome &lt;fct&gt; | total &lt;dbl&gt; |\n",
       "|---|---|\n",
       "| died       | 0.3319838 |\n",
       "| euthanized | 0.2032389 |\n",
       "| lived      | 0.4647773 |\n",
       "\n"
      ],
      "text/plain": [
       "  outcome    total    \n",
       "1 died       0.3319838\n",
       "2 euthanized 0.2032389\n",
       "3 lived      0.4647773"
      ]
     },
     "metadata": {},
     "output_type": "display_data"
    }
   ],
   "source": [
    "# Or for a look at the percentages:\n",
    "train_data %>% group_by(outcome) %>% summarize(total = n()/nrow(.))\n",
    "\n",
    "# Less than half lived :("
   ]
  },
  {
   "cell_type": "markdown",
   "id": "032c845c",
   "metadata": {
    "papermill": {
     "duration": 0.018831,
     "end_time": "2023-09-17T23:57:05.076741",
     "exception": false,
     "start_time": "2023-09-17T23:57:05.057910",
     "status": "completed"
    },
    "tags": []
   },
   "source": [
    "### Some interesting plots that may help during EDA..."
   ]
  },
  {
   "cell_type": "code",
   "execution_count": 20,
   "id": "935badc9",
   "metadata": {
    "execution": {
     "iopub.execute_input": "2023-09-17T23:57:05.115687Z",
     "iopub.status.busy": "2023-09-17T23:57:05.113523Z",
     "iopub.status.idle": "2023-09-17T23:57:05.653537Z",
     "shell.execute_reply": "2023-09-17T23:57:05.650839Z"
    },
    "papermill": {
     "duration": 0.5634,
     "end_time": "2023-09-17T23:57:05.657101",
     "exception": false,
     "start_time": "2023-09-17T23:57:05.093701",
     "status": "completed"
    },
    "tags": [],
    "vscode": {
     "languageId": "r"
    }
   },
   "outputs": [
    {
     "data": {
      "image/png": "[encoded data removed]"
     },
     "metadata": {
      "image/png": {
       "height": 480,
       "width": 720
      }
     },
     "output_type": "display_data"
    }
   ],
   "source": [
    "# Plot of respiratory rate, pulse, & outcome\n",
    "\n",
    "# Adjust plot size\n",
    "options(repr.plot.width = 12, repr.plot.height =8)\n",
    "train_data %>% ggplot(aes(x=pulse, y=respiratory_rate)) + geom_point(aes(color = outcome)) + theme_clean()"
   ]
  },
  {
   "cell_type": "code",
   "execution_count": 21,
   "id": "d24ffb8e",
   "metadata": {
    "execution": {
     "iopub.execute_input": "2023-09-17T23:57:05.700853Z",
     "iopub.status.busy": "2023-09-17T23:57:05.698367Z",
     "iopub.status.idle": "2023-09-17T23:57:06.145571Z",
     "shell.execute_reply": "2023-09-17T23:57:06.143424Z"
    },
    "papermill": {
     "duration": 0.472362,
     "end_time": "2023-09-17T23:57:06.148682",
     "exception": false,
     "start_time": "2023-09-17T23:57:05.676320",
     "status": "completed"
    },
    "tags": [],
    "vscode": {
     "languageId": "r"
    }
   },
   "outputs": [
    {
     "data": {
      "image/png": "[encoded data removed]"
     },
     "metadata": {
      "image/png": {
       "height": 480,
       "width": 720
      }
     },
     "output_type": "display_data"
    }
   ],
   "source": [
    "# Distribution of Lesion_1 values\n",
    "# Adjust plot size\n",
    "options(repr.plot.width = 12, repr.plot.height =8)\n",
    "train_data %>% ggplot(aes(x=lesion_1)) + geom_bar(color='steelblue') + theme_clean()"
   ]
  },
  {
   "cell_type": "code",
   "execution_count": 22,
   "id": "b148b5e7",
   "metadata": {
    "execution": {
     "iopub.execute_input": "2023-09-17T23:57:06.194017Z",
     "iopub.status.busy": "2023-09-17T23:57:06.192157Z",
     "iopub.status.idle": "2023-09-17T23:57:06.486723Z",
     "shell.execute_reply": "2023-09-17T23:57:06.484653Z"
    },
    "papermill": {
     "duration": 0.321041,
     "end_time": "2023-09-17T23:57:06.490084",
     "exception": false,
     "start_time": "2023-09-17T23:57:06.169043",
     "status": "completed"
    },
    "tags": [],
    "vscode": {
     "languageId": "r"
    }
   },
   "outputs": [
    {
     "data": {
      "text/html": [
       "4"
      ],
      "text/latex": [
       "4"
      ],
      "text/markdown": [
       "4"
      ],
      "text/plain": [
       "[1] 4"
      ]
     },
     "metadata": {},
     "output_type": "display_data"
    },
    {
     "data": {
      "image/png": "[encoded data removed]"
     },
     "metadata": {
      "image/png": {
       "height": 480,
       "width": 720
      }
     },
     "output_type": "display_data"
    }
   ],
   "source": [
    "# Distribution of Lesion_2 values\n",
    "# Adjust plot size\n",
    "options(repr.plot.width = 12, repr.plot.height =8)\n",
    "train_data %>% ggplot(aes(x=lesion_2)) + geom_bar(fill='steelblue') + theme_clean()\n",
    "\n",
    "train_data %>% select(lesion_2) %>% unique() %>% nrow() # only 4 unique values for Lesion_2"
   ]
  },
  {
   "cell_type": "code",
   "execution_count": 23,
   "id": "b53f43cd",
   "metadata": {
    "execution": {
     "iopub.execute_input": "2023-09-17T23:57:06.538787Z",
     "iopub.status.busy": "2023-09-17T23:57:06.536914Z",
     "iopub.status.idle": "2023-09-17T23:57:06.838301Z",
     "shell.execute_reply": "2023-09-17T23:57:06.836181Z"
    },
    "papermill": {
     "duration": 0.329062,
     "end_time": "2023-09-17T23:57:06.841193",
     "exception": false,
     "start_time": "2023-09-17T23:57:06.512131",
     "status": "completed"
    },
    "tags": [],
    "vscode": {
     "languageId": "r"
    }
   },
   "outputs": [
    {
     "data": {
      "text/html": [
       "2"
      ],
      "text/latex": [
       "2"
      ],
      "text/markdown": [
       "2"
      ],
      "text/plain": [
       "[1] 2"
      ]
     },
     "metadata": {},
     "output_type": "display_data"
    },
    {
     "data": {
      "image/png": "[encoded data removed]"
     },
     "metadata": {
      "image/png": {
       "height": 480,
       "width": 720
      }
     },
     "output_type": "display_data"
    }
   ],
   "source": [
    "# Distribution of Lesion_3 values\n",
    "# Adjust plot size\n",
    "options(repr.plot.width = 12, repr.plot.height =8)\n",
    "train_data %>% ggplot(aes(x=lesion_3)) + geom_bar(fill='steelblue') + theme_clean()\n",
    "\n",
    "train_data %>% select(lesion_3) %>% unique() %>% nrow() # only 2 unique values for Lesion_3, with only one value of 2209, the remaining are 0"
   ]
  },
  {
   "cell_type": "code",
   "execution_count": 24,
   "id": "5de5c791",
   "metadata": {
    "execution": {
     "iopub.execute_input": "2023-09-17T23:57:06.892100Z",
     "iopub.status.busy": "2023-09-17T23:57:06.890233Z",
     "iopub.status.idle": "2023-09-17T23:57:07.218368Z",
     "shell.execute_reply": "2023-09-17T23:57:07.207294Z"
    },
    "papermill": {
     "duration": 0.35724,
     "end_time": "2023-09-17T23:57:07.221726",
     "exception": false,
     "start_time": "2023-09-17T23:57:06.864486",
     "status": "completed"
    },
    "tags": [],
    "vscode": {
     "languageId": "r"
    }
   },
   "outputs": [
    {
     "data": {
      "image/png": "[encoded data removed]"
     },
     "metadata": {
      "image/png": {
       "height": 480,
       "width": 720
      }
     },
     "output_type": "display_data"
    }
   ],
   "source": [
    "# Distribution of rectal_temp, with the mean plotted as a vertical red line\n",
    "# Adjust plot size\n",
    "options(repr.plot.width = 12, repr.plot.height =8)\n",
    "mean_temp <- train_data %>% pull(rectal_temp) %>% mean()\n",
    "train_data %>% ggplot(aes(x=rectal_temp)) + geom_bar(fill='steelblue')  + geom_vline(xintercept = mean_temp, color= 'red') + theme_clean()"
   ]
  },
  {
   "cell_type": "markdown",
   "id": "a816524d",
   "metadata": {
    "papermill": {
     "duration": 0.0226,
     "end_time": "2023-09-17T23:57:07.267779",
     "exception": false,
     "start_time": "2023-09-17T23:57:07.245179",
     "status": "completed"
    },
    "tags": []
   },
   "source": [
    "### Let's try an xgbLinear submission:"
   ]
  },
  {
   "cell_type": "code",
   "execution_count": 25,
   "id": "c60e957f",
   "metadata": {
    "execution": {
     "iopub.execute_input": "2023-09-17T23:57:07.320294Z",
     "iopub.status.busy": "2023-09-17T23:57:07.318563Z",
     "iopub.status.idle": "2023-09-17T23:57:07.340858Z",
     "shell.execute_reply": "2023-09-17T23:57:07.338850Z"
    },
    "papermill": {
     "duration": 0.051059,
     "end_time": "2023-09-17T23:57:07.343585",
     "exception": false,
     "start_time": "2023-09-17T23:57:07.292526",
     "status": "completed"
    },
    "tags": [],
    "vscode": {
     "languageId": "r"
    }
   },
   "outputs": [],
   "source": [
    "# First, let's update some features based on testing\n",
    "#str(train_data)\n",
    "train_data <- train_data %>% mutate(abdominal_distention = ifelse(abdominal_distention == 'None',0,ifelse(abdominal_distention == 'slight',1,ifelse(abdominal_distention == 'moderate',2,4))))\n",
    "test_data <- test_data %>% mutate(abdominal_distention = ifelse(abdominal_distention == 'None',0,ifelse(abdominal_distention == 'slight',1,ifelse(abdominal_distention == 'moderate',2,4))))"
   ]
  },
  {
   "cell_type": "code",
   "execution_count": 26,
   "id": "8b84e915",
   "metadata": {
    "execution": {
     "iopub.execute_input": "2023-09-17T23:57:07.392019Z",
     "iopub.status.busy": "2023-09-17T23:57:07.390276Z",
     "iopub.status.idle": "2023-09-17T23:57:07.409222Z",
     "shell.execute_reply": "2023-09-17T23:57:07.407230Z"
    },
    "papermill": {
     "duration": 0.046286,
     "end_time": "2023-09-17T23:57:07.411986",
     "exception": false,
     "start_time": "2023-09-17T23:57:07.365700",
     "status": "completed"
    },
    "tags": [],
    "vscode": {
     "languageId": "r"
    }
   },
   "outputs": [],
   "source": [
    "# Save the ids for the submission\n",
    "test_data_ids <- test_data %>% select(id)"
   ]
  },
  {
   "cell_type": "code",
   "execution_count": 27,
   "id": "4b48c41f",
   "metadata": {
    "execution": {
     "iopub.execute_input": "2023-09-17T23:57:07.460040Z",
     "iopub.status.busy": "2023-09-17T23:57:07.458220Z",
     "iopub.status.idle": "2023-09-17T23:57:07.483153Z",
     "shell.execute_reply": "2023-09-17T23:57:07.481136Z"
    },
    "papermill": {
     "duration": 0.051965,
     "end_time": "2023-09-17T23:57:07.485860",
     "exception": false,
     "start_time": "2023-09-17T23:57:07.433895",
     "status": "completed"
    },
    "tags": [],
    "vscode": {
     "languageId": "r"
    }
   },
   "outputs": [],
   "source": [
    "# Removing the id\n",
    "train_data <- train_data %>% select(-id)\n",
    "test_data <- test_data %>% select(-id)"
   ]
  },
  {
   "cell_type": "code",
   "execution_count": 28,
   "id": "9d79acf8",
   "metadata": {
    "execution": {
     "iopub.execute_input": "2023-09-17T23:57:07.538942Z",
     "iopub.status.busy": "2023-09-17T23:57:07.536756Z",
     "iopub.status.idle": "2023-09-17T23:57:07.567732Z",
     "shell.execute_reply": "2023-09-17T23:57:07.565633Z"
    },
    "papermill": {
     "duration": 0.06019,
     "end_time": "2023-09-17T23:57:07.570657",
     "exception": false,
     "start_time": "2023-09-17T23:57:07.510467",
     "status": "completed"
    },
    "tags": [],
    "vscode": {
     "languageId": "r"
    }
   },
   "outputs": [],
   "source": [
    "# Creating the partitions\n",
    "set.seed(1)\n",
    "test_index <- createDataPartition(train_data$outcome, times = 1, p =.8, list = FALSE)\n",
    "train_set <- train_data[test_index,]\n",
    "test_set <- train_data[-test_index,]"
   ]
  },
  {
   "cell_type": "code",
   "execution_count": 29,
   "id": "24822d63",
   "metadata": {
    "execution": {
     "iopub.execute_input": "2023-09-17T23:57:07.620201Z",
     "iopub.status.busy": "2023-09-17T23:57:07.617937Z",
     "iopub.status.idle": "2023-09-17T23:57:07.638555Z",
     "shell.execute_reply": "2023-09-17T23:57:07.636393Z"
    },
    "papermill": {
     "duration": 0.04975,
     "end_time": "2023-09-17T23:57:07.642024",
     "exception": false,
     "start_time": "2023-09-17T23:57:07.592274",
     "status": "completed"
    },
    "tags": [],
    "vscode": {
     "languageId": "r"
    }
   },
   "outputs": [],
   "source": [
    "xgb_grid <- expand.grid(\n",
    "  nrounds= 150,\n",
    "  eta=.3,\n",
    "  lambda = .0001,\n",
    "  alpha =0\n",
    ")\n",
    "xgb_trcontrol <- trainControl(\n",
    "  method=\"cv\",\n",
    "  number = 10\n",
    ")"
   ]
  },
  {
   "cell_type": "code",
   "execution_count": 30,
   "id": "55730203",
   "metadata": {
    "execution": {
     "iopub.execute_input": "2023-09-17T23:57:07.689249Z",
     "iopub.status.busy": "2023-09-17T23:57:07.687587Z",
     "iopub.status.idle": "2023-09-18T00:00:58.992294Z",
     "shell.execute_reply": "2023-09-18T00:00:58.990067Z"
    },
    "papermill": {
     "duration": 231.332577,
     "end_time": "2023-09-18T00:00:58.996470",
     "exception": false,
     "start_time": "2023-09-17T23:57:07.663893",
     "status": "completed"
    },
    "tags": [],
    "vscode": {
     "languageId": "r"
    }
   },
   "outputs": [],
   "source": [
    "# Training the model\n",
    "model <- train(outcome ~ ., method = 'xgbLinear', trControl = xgb_trcontrol, data = train_data) #tuneGrid = xgb_grid, "
   ]
  },
  {
   "cell_type": "code",
   "execution_count": 31,
   "id": "2666d6b5",
   "metadata": {
    "collapsed": true,
    "execution": {
     "iopub.execute_input": "2023-09-18T00:00:59.116514Z",
     "iopub.status.busy": "2023-09-18T00:00:59.114662Z",
     "iopub.status.idle": "2023-09-18T00:00:59.140857Z",
     "shell.execute_reply": "2023-09-18T00:00:59.138813Z"
    },
    "jupyter": {
     "outputs_hidden": true
    },
    "papermill": {
     "duration": 0.118342,
     "end_time": "2023-09-18T00:00:59.143570",
     "exception": false,
     "start_time": "2023-09-18T00:00:59.025228",
     "status": "completed"
    },
    "tags": [],
    "vscode": {
     "languageId": "r"
    }
   },
   "outputs": [
    {
     "data": {
      "text/plain": [
       "eXtreme Gradient Boosting \n",
       "\n",
       "1235 samples\n",
       "  27 predictor\n",
       "   3 classes: 'died', 'euthanized', 'lived' \n",
       "\n",
       "No pre-processing\n",
       "Resampling: Cross-Validated (10 fold) \n",
       "Summary of sample sizes: 1111, 1112, 1112, 1111, 1112, 1111, ... \n",
       "Resampling results across tuning parameters:\n",
       "\n",
       "  lambda  alpha  nrounds  Accuracy   Kappa    \n",
       "  0e+00   0e+00   50      0.7101757  0.5394197\n",
       "  0e+00   0e+00  100      0.7190795  0.5531808\n",
       "  0e+00   0e+00  150      0.7190795  0.5523829\n",
       "  0e+00   1e-04   50      0.7093824  0.5391145\n",
       "  0e+00   1e-04  100      0.7142080  0.5469719\n",
       "  0e+00   1e-04  150      0.7166470  0.5500382\n",
       "  0e+00   1e-01   50      0.7044912  0.5306940\n",
       "  0e+00   1e-01  100      0.7142145  0.5456037\n",
       "  0e+00   1e-01  150      0.7134015  0.5453907\n",
       "  1e-04   0e+00   50      0.7061369  0.5321745\n",
       "  1e-04   0e+00  100      0.7085563  0.5367437\n",
       "  1e-04   0e+00  150      0.7166339  0.5488510\n",
       "  1e-04   1e-04   50      0.7109822  0.5416667\n",
       "  1e-04   1e-04  100      0.7174731  0.5508194\n",
       "  1e-04   1e-04  150      0.7247771  0.5631197\n",
       "  1e-04   1e-01   50      0.7077367  0.5352276\n",
       "  1e-04   1e-01  100      0.7077432  0.5354429\n",
       "  1e-04   1e-01  150      0.7118017  0.5422983\n",
       "  1e-01   0e+00   50      0.7037044  0.5278862\n",
       "  1e-01   0e+00  100      0.7085628  0.5364690\n",
       "  1e-01   0e+00  150      0.7117821  0.5414489\n",
       "  1e-01   1e-04   50      0.7069630  0.5330126\n",
       "  1e-01   1e-04  100      0.7150603  0.5476243\n",
       "  1e-01   1e-04  150      0.7174993  0.5512188\n",
       "  1e-01   1e-01   50      0.7037110  0.5294335\n",
       "  1e-01   1e-01  100      0.7077629  0.5367657\n",
       "  1e-01   1e-01  150      0.7093824  0.5390362\n",
       "\n",
       "Tuning parameter 'eta' was held constant at a value of 0.3\n",
       "Accuracy was used to select the optimal model using the largest value.\n",
       "The final values used for the model were nrounds = 150, lambda = 1e-04, alpha\n",
       " = 1e-04 and eta = 0.3."
      ]
     },
     "metadata": {},
     "output_type": "display_data"
    }
   ],
   "source": [
    "model"
   ]
  },
  {
   "cell_type": "code",
   "execution_count": 32,
   "id": "b46de9c2",
   "metadata": {
    "execution": {
     "iopub.execute_input": "2023-09-18T00:00:59.194732Z",
     "iopub.status.busy": "2023-09-18T00:00:59.192957Z",
     "iopub.status.idle": "2023-09-18T00:00:59.233150Z",
     "shell.execute_reply": "2023-09-18T00:00:59.230645Z"
    },
    "papermill": {
     "duration": 0.068038,
     "end_time": "2023-09-18T00:00:59.236190",
     "exception": false,
     "start_time": "2023-09-18T00:00:59.168152",
     "status": "completed"
    },
    "tags": [],
    "vscode": {
     "languageId": "r"
    }
   },
   "outputs": [],
   "source": [
    "testing <- FALSE\n",
    "if(testing){\n",
    "    prediction <- predict(model,test_set)\n",
    "    confusionMatrix(prediction, test_set$outcome, mode = 'everything', positive = '1')$byClass[,'F1'] %>% mean()\n",
    "}else{\n",
    "    # Predicting the test_set\n",
    "    prediction <- predict(model,test_data)\n",
    "    \n",
    "}"
   ]
  },
  {
   "cell_type": "code",
   "execution_count": 33,
   "id": "59df7b77",
   "metadata": {
    "execution": {
     "iopub.execute_input": "2023-09-18T00:00:59.287519Z",
     "iopub.status.busy": "2023-09-18T00:00:59.285755Z",
     "iopub.status.idle": "2023-09-18T00:00:59.314551Z",
     "shell.execute_reply": "2023-09-18T00:00:59.312665Z"
    },
    "papermill": {
     "duration": 0.057267,
     "end_time": "2023-09-18T00:00:59.317243",
     "exception": false,
     "start_time": "2023-09-18T00:00:59.259976",
     "status": "completed"
    },
    "tags": [],
    "vscode": {
     "languageId": "r"
    }
   },
   "outputs": [
    {
     "data": {
      "text/html": [
       "<table class=\"dataframe\">\n",
       "<caption>A data.frame: 6 × 2</caption>\n",
       "<thead>\n",
       "\t<tr><th></th><th scope=col>id</th><th scope=col>outcome</th></tr>\n",
       "\t<tr><th></th><th scope=col>&lt;int&gt;</th><th scope=col>&lt;fct&gt;</th></tr>\n",
       "</thead>\n",
       "<tbody>\n",
       "\t<tr><th scope=row>1</th><td>1235</td><td>lived     </td></tr>\n",
       "\t<tr><th scope=row>2</th><td>1236</td><td>lived     </td></tr>\n",
       "\t<tr><th scope=row>3</th><td>1237</td><td>lived     </td></tr>\n",
       "\t<tr><th scope=row>4</th><td>1238</td><td>euthanized</td></tr>\n",
       "\t<tr><th scope=row>5</th><td>1239</td><td>lived     </td></tr>\n",
       "\t<tr><th scope=row>6</th><td>1240</td><td>died      </td></tr>\n",
       "</tbody>\n",
       "</table>\n"
      ],
      "text/latex": [
       "A data.frame: 6 × 2\n",
       "\\begin{tabular}{r|ll}\n",
       "  & id & outcome\\\\\n",
       "  & <int> & <fct>\\\\\n",
       "\\hline\n",
       "\t1 & 1235 & lived     \\\\\n",
       "\t2 & 1236 & lived     \\\\\n",
       "\t3 & 1237 & lived     \\\\\n",
       "\t4 & 1238 & euthanized\\\\\n",
       "\t5 & 1239 & lived     \\\\\n",
       "\t6 & 1240 & died      \\\\\n",
       "\\end{tabular}\n"
      ],
      "text/markdown": [
       "\n",
       "A data.frame: 6 × 2\n",
       "\n",
       "| <!--/--> | id &lt;int&gt; | outcome &lt;fct&gt; |\n",
       "|---|---|---|\n",
       "| 1 | 1235 | lived      |\n",
       "| 2 | 1236 | lived      |\n",
       "| 3 | 1237 | lived      |\n",
       "| 4 | 1238 | euthanized |\n",
       "| 5 | 1239 | lived      |\n",
       "| 6 | 1240 | died       |\n",
       "\n"
      ],
      "text/plain": [
       "  id   outcome   \n",
       "1 1235 lived     \n",
       "2 1236 lived     \n",
       "3 1237 lived     \n",
       "4 1238 euthanized\n",
       "5 1239 lived     \n",
       "6 1240 died      "
      ]
     },
     "metadata": {},
     "output_type": "display_data"
    }
   ],
   "source": [
    "# Create the submission_df\n",
    "submission_df <- data.frame(student_id = test_data_ids, outcome = unlist(prediction))\n",
    "\n",
    "# This is what our submission looks like\n",
    "submission_df %>% head()"
   ]
  },
  {
   "cell_type": "code",
   "execution_count": 34,
   "id": "247fce92",
   "metadata": {
    "execution": {
     "iopub.execute_input": "2023-09-18T00:00:59.366803Z",
     "iopub.status.busy": "2023-09-18T00:00:59.364824Z",
     "iopub.status.idle": "2023-09-18T00:00:59.508229Z",
     "shell.execute_reply": "2023-09-18T00:00:59.505206Z"
    },
    "papermill": {
     "duration": 0.172963,
     "end_time": "2023-09-18T00:00:59.512346",
     "exception": false,
     "start_time": "2023-09-18T00:00:59.339383",
     "status": "completed"
    },
    "tags": [],
    "vscode": {
     "languageId": "r"
    }
   },
   "outputs": [],
   "source": [
    "# Write, & cross your fingers!! (j/k)\n",
    "write_csv(submission_df, 'submission.csv')"
   ]
  }
 ],
 "metadata": {
  "kernelspec": {
   "display_name": "R",
   "language": "R",
   "name": "ir"
  },
  "language_info": {
   "codemirror_mode": "r",
   "file_extension": ".r",
   "mimetype": "text/x-r-source",
   "name": "R",
   "pygments_lexer": "r",
   "version": "4.0.5"
  },
  "papermill": {
   "default_parameters": {},
   "duration": 244.628395,
   "end_time": "2023-09-18T00:00:59.707378",
   "environment_variables": {},
   "exception": null,
   "input_path": "__notebook__.ipynb",
   "output_path": "__notebook__.ipynb",
   "parameters": {},
   "start_time": "2023-09-17T23:56:55.078983",
   "version": "2.4.0"
  }
 },
 "nbformat": 4,
 "nbformat_minor": 5
}
